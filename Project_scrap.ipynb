{
  "nbformat": 4,
  "nbformat_minor": 0,
  "metadata": {
    "colab": {
      "name": "Project_scrap.ipynb",
      "provenance": [],
      "collapsed_sections": [],
      "authorship_tag": "ABX9TyN8XzGl6zGm58anCdHa/8NC",
      "include_colab_link": true
    },
    "kernelspec": {
      "name": "python3",
      "display_name": "Python 3"
    },
    "language_info": {
      "name": "python"
    }
  },
  "cells": [
    {
      "cell_type": "markdown",
      "metadata": {
        "id": "view-in-github",
        "colab_type": "text"
      },
      "source": [
        "<a href=\"https://colab.research.google.com/github/Muntasir90629/Web-Scraping-with-Python/blob/main/Project_scrap.ipynb\" target=\"_parent\"><img src=\"https://colab.research.google.com/assets/colab-badge.svg\" alt=\"Open In Colab\"/></a>"
      ]
    },
    {
      "cell_type": "code",
      "metadata": {
        "id": "brm-kbchtnLM"
      },
      "source": [
        "import pandas as pd\n",
        "\n",
        "from bs4 import BeautifulSoup\n",
        "\n",
        "import requests"
      ],
      "execution_count": null,
      "outputs": []
    },
    {
      "cell_type": "code",
      "metadata": {
        "id": "gQQRd_qstw2g"
      },
      "source": [
        "url=\"https://www.wfp.org/countries/afghanistan\""
      ],
      "execution_count": null,
      "outputs": []
    },
    {
      "cell_type": "code",
      "metadata": {
        "id": "CP2inIGwtz2C"
      },
      "source": [
        "page=requests.get(url)"
      ],
      "execution_count": null,
      "outputs": []
    },
    {
      "cell_type": "code",
      "metadata": {
        "id": "C_p55A74t3V7"
      },
      "source": [
        "soup=BeautifulSoup(page.content,'html.parser')"
      ],
      "execution_count": null,
      "outputs": []
    },
    {
      "cell_type": "code",
      "metadata": {
        "colab": {
          "base_uri": "https://localhost:8080/"
        },
        "id": "X886Srcgxu9D",
        "outputId": "33187d0f-b1a3-44ed-8b3d-536438ed7f83"
      },
      "source": [
        "card=soup.find(\"div\", attrs={'class': 'card card--simple'})\n",
        "\n",
        "links=card.find(\"a\")\n",
        "\n",
        "print(links[\"href\"])"
      ],
      "execution_count": null,
      "outputs": [
        {
          "output_type": "stream",
          "text": [
            "https://www.wfp.org/operations/af01-afghanistan-country-strategic-plan-2018-2022\n"
          ],
          "name": "stdout"
        }
      ]
    },
    {
      "cell_type": "code",
      "metadata": {
        "id": "I_0rvD_VtU_k"
      },
      "source": [
        "div=soup.find(\"div\", attrs={'class': 'field-rich-text--container mv4 mv5-lg'})\n",
        "para=div.text.replace(\"\\n\",\"\").replace(\"\\xa0\",\"\").replace(\"Show more\",\"\").strip()"
      ],
      "execution_count": null,
      "outputs": []
    },
    {
      "cell_type": "code",
      "metadata": {
        "colab": {
          "base_uri": "https://localhost:8080/"
        },
        "id": "nu-22Jg_uHEn",
        "outputId": "fff3f580-046a-4fc6-ba5d-6ecf2b93a884"
      },
      "source": [
        "div=soup.find(\"div\", attrs={'class': 'field-rich-text--container mv4 mv5-lg'})\n",
        "para=div.text.replace(\"\\n\",\"\").replace(\"\\xa0\",\"\").replace(\"Show more\",\"\").strip()\n",
        "\n",
        "print(para)"
      ],
      "execution_count": null,
      "outputs": [
        {
          "output_type": "stream",
          "text": [
            "With an engaged government, rich natural resources and a young and diverse population, Afghanistan has the potential to make significant progress on the 2030 Agenda for Sustainable Development. However, decades of complex and protracted conflicts, combined with a changing climate, gender inequalities, rapid urbanization and underemployment pose considerable challenges in efforts to achieve the Sustainable Development Goals (SDGs), including SDG 2 on Zero Hunger and improved nutrition.Over half of the country’s population lives below the poverty line, and food insecurity is on the rise, largely due to conflict and insecurity cutting off whole communities from livelihood opportunities. This particularly affects a predominantly young population, more than two-thirds of which are under the age of 25. Concerns about corruption, transparency and illegal industry further exacerbate the situation, and living standards vary greatly between those cities and rural areas. 12.5 million people identified as severely food insecure.Since the beginning of 2019, WFP had supported 3.5 million people in most parts of the country.Undernutrition is of particular concern in women, children, displaced people, returnees, households headed by women, people with disabilities and the poor. Despite progress in recent years, undernutrition rates are now increasing and the prevalence of stunting in children under 5 remains high at 41 percent at the national level, with peaks of 60 to 70 percent in some provinces. In the first six months of 2019, WFP reached 162,800 girls and boys under 5 and mothers with treatment of moderate acute malnutrition.Every year, some 250,000 people on average are affected by a wide range of environmental disasters including floods, droughts, avalanches, landslides and earthquakes. In 2018, that number was much higher, with the country seeing its worst drought in over a decade. The impact of disasters and dependency on water from rain or snowmelt severely limit the productivity of the agricultural sector, which provides a source of income for 44 percent of the population. During the severe drought that struck the country throughout 2018, WFP scaled up its emergency operations, reaching 3 million who were affected.By the end of 2018, WFP had provided food assistance to more than 2.7 million people affected by the drought in 22 of 24 provinces, with assistance continuing into 2019.Present in Afghanistan since 1963, the World Food Programme works with partners to ensure that, in line with humanitarian principles, assistance reaches conflict- and disaster-affected populations wherever they are. WFP also supports the Government in its efforts to achieve SDG2 on Zero Hunger through transformative actions that strengthen the resilience and livelihoods of individuals and communities – with a special focus on women – and support local economies, thus contributing to the long-term development and stability of the country.\n"
          ],
          "name": "stdout"
        }
      ]
    },
    {
      "cell_type": "code",
      "metadata": {
        "colab": {
          "base_uri": "https://localhost:8080/",
          "height": 35
        },
        "id": "k-XvDuYHwAP9",
        "outputId": "49c81d23-3479-4797-9a61-974e110bc865"
      },
      "source": [
        "div=soup.find(\"div\", attrs={'class': 'stat--item tl-lg tc'})\n",
        "\n",
        "div.text.replace(\"\\n\",\" \").replace(\"\\xa0\",\"\").replace(\"Show more\",\"\").strip()\n"
      ],
      "execution_count": null,
      "outputs": [
        {
          "output_type": "execute_result",
          "data": {
            "application/vnd.google.colaboratory.intrinsic+json": {
              "type": "string"
            },
            "text/plain": [
              "'35.7 million population'"
            ]
          },
          "metadata": {
            "tags": []
          },
          "execution_count": 9
        }
      ]
    },
    {
      "cell_type": "code",
      "metadata": {
        "colab": {
          "base_uri": "https://localhost:8080/",
          "height": 35
        },
        "id": "CDvxfUDi6MY8",
        "outputId": "12914b4e-9279-47b3-b000-316810d43e96"
      },
      "source": [
        "div=soup.find(\"div\", attrs={'class': 'stat--item tl-lg tc'})\n",
        "\n",
        "div.text.replace(\"\\n\",\" \").replace(\"\\xa0\",\"\").replace(\"Show more\",\"\").strip()"
      ],
      "execution_count": null,
      "outputs": [
        {
          "output_type": "execute_result",
          "data": {
            "application/vnd.google.colaboratory.intrinsic+json": {
              "type": "string"
            },
            "text/plain": [
              "'35.7 million population'"
            ]
          },
          "metadata": {
            "tags": []
          },
          "execution_count": 10
        }
      ]
    },
    {
      "cell_type": "code",
      "metadata": {
        "id": "8Ewmcg3f00w_"
      },
      "source": [
        "url=\"https://www.wfp.org/countries\""
      ],
      "execution_count": null,
      "outputs": []
    },
    {
      "cell_type": "code",
      "metadata": {
        "id": "fHp9mWXc0661"
      },
      "source": [
        "page=requests.get(url)\n"
      ],
      "execution_count": null,
      "outputs": []
    },
    {
      "cell_type": "code",
      "metadata": {
        "id": "BLQrYuDe0-hb"
      },
      "source": [
        "soup=BeautifulSoup(page.content,'html.parser')"
      ],
      "execution_count": null,
      "outputs": []
    },
    {
      "cell_type": "code",
      "metadata": {
        "id": "Hyj8w3Si1MZo",
        "colab": {
          "base_uri": "https://localhost:8080/",
          "height": 35
        },
        "outputId": "385ada42-572b-455e-ecfb-b4dbfa4fb3e1"
      },
      "source": [
        "div=soup.find_all(\"div\", attrs={'class': 'where-we-work--item where-we-work--country--content'})\n",
        "\n",
        "length=len(div)\n",
        "\n",
        "div[0].text.replace(\"\\n\",\"\")"
      ],
      "execution_count": null,
      "outputs": [
        {
          "output_type": "execute_result",
          "data": {
            "application/vnd.google.colaboratory.intrinsic+json": {
              "type": "string"
            },
            "text/plain": [
              "'Afghanistan'"
            ]
          },
          "metadata": {
            "tags": []
          },
          "execution_count": 14
        }
      ]
    },
    {
      "cell_type": "code",
      "metadata": {
        "colab": {
          "base_uri": "https://localhost:8080/"
        },
        "id": "sNw27-3R1wBW",
        "outputId": "76b3f999-d6b0-4bf9-8e1f-588cbd1d05de"
      },
      "source": [
        "l=[]\n",
        "for i in range (1,83,1):\n",
        "\n",
        "  print(div[i].text.replace(\"\\n\",\"\"))\n",
        "  \n",
        "  c=div[i].text.replace(\"\\n\",\"\")\n",
        "\n",
        "  l.append(c)\n",
        "\n",
        "  \n",
        "  "
      ],
      "execution_count": null,
      "outputs": [
        {
          "output_type": "stream",
          "text": [
            "Algeria\n",
            "Angola\n",
            "Armenia\n",
            "Bangladesh\n",
            "Benin\n",
            "Bhutan\n",
            "Bolivia (Plurinational State of)\n",
            "Burkina Faso\n",
            "Burundi\n",
            "Cambodia\n",
            "Cameroon\n",
            "Central African Republic\n",
            "Chad\n",
            "China\n",
            "Colombia\n",
            "Congo\n",
            "Côte d'Ivoire\n",
            "Cuba\n",
            "Democratic People's Republic of Korea\n",
            "Democratic Republic of the Congo\n",
            "Djibouti\n",
            "Dominican Republic\n",
            "Ecuador\n",
            "Egypt\n",
            "El Salvador\n",
            "Eswatini\n",
            "Ethiopia\n",
            "Gambia\n",
            "Ghana\n",
            "Guatemala\n",
            "Guinea\n",
            "Guinea-Bissau\n",
            "Haiti\n",
            "Honduras\n",
            "India\n",
            "Indonesia\n",
            "Iran (Islamic Republic of)\n",
            "Iraq\n",
            "Jordan\n",
            "Kenya\n",
            "Kyrgyzstan\n",
            "Lao People's Democratic Republic\n",
            "Lebanon\n",
            "Lesotho\n",
            "Liberia\n",
            "Libya\n",
            "Madagascar\n",
            "Malawi\n",
            "Mali\n",
            "Mauritania\n",
            "Mozambique\n",
            "Myanmar\n",
            "Namibia\n",
            "Nepal\n",
            "Nicaragua\n",
            "Niger\n",
            "Nigeria\n",
            "Pakistan\n",
            "Palestine\n",
            "Peru\n",
            "Philippines\n",
            "Rwanda\n",
            "Sao Tome and Principe\n",
            "Senegal\n",
            "Sierra Leone\n",
            "Somalia\n",
            "South Sudan\n",
            "Sri Lanka\n",
            "Sudan\n",
            "Syrian Arab Republic\n",
            "Tajikistan\n",
            "Tanzania\n",
            "The Caribbean\n",
            "The Pacific\n",
            "Timor-Leste\n",
            "Togo\n",
            "Tunisia\n",
            "Turkey\n",
            "Uganda\n",
            "Yemen\n",
            "Zambia\n",
            "Zimbabwe\n"
          ],
          "name": "stdout"
        }
      ]
    },
    {
      "cell_type": "code",
      "metadata": {
        "colab": {
          "base_uri": "https://localhost:8080/"
        },
        "id": "C_fDykERdTKM",
        "outputId": "f5504ed7-2c57-45d5-b325-d59fb40042a0"
      },
      "source": [
        "for i in range (1,82,1):\n",
        "\n",
        "  print(l[i])"
      ],
      "execution_count": null,
      "outputs": [
        {
          "output_type": "stream",
          "text": [
            "Angola\n",
            "Armenia\n",
            "Bangladesh\n",
            "Benin\n",
            "Bhutan\n",
            "Bolivia (Plurinational State of)\n",
            "Burkina Faso\n",
            "Burundi\n",
            "Cambodia\n",
            "Cameroon\n",
            "Central African Republic\n",
            "Chad\n",
            "China\n",
            "Colombia\n",
            "Congo\n",
            "Côte d'Ivoire\n",
            "Cuba\n",
            "Democratic People's Republic of Korea\n",
            "Democratic Republic of the Congo\n",
            "Djibouti\n",
            "Dominican Republic\n",
            "Ecuador\n",
            "Egypt\n",
            "El Salvador\n",
            "Eswatini\n",
            "Ethiopia\n",
            "Gambia\n",
            "Ghana\n",
            "Guatemala\n",
            "Guinea\n",
            "Guinea-Bissau\n",
            "Haiti\n",
            "Honduras\n",
            "India\n",
            "Indonesia\n",
            "Iran (Islamic Republic of)\n",
            "Iraq\n",
            "Jordan\n",
            "Kenya\n",
            "Kyrgyzstan\n",
            "Lao People's Democratic Republic\n",
            "Lebanon\n",
            "Lesotho\n",
            "Liberia\n",
            "Libya\n",
            "Madagascar\n",
            "Malawi\n",
            "Mali\n",
            "Mauritania\n",
            "Mozambique\n",
            "Myanmar\n",
            "Namibia\n",
            "Nepal\n",
            "Nicaragua\n",
            "Niger\n",
            "Nigeria\n",
            "Pakistan\n",
            "Palestine\n",
            "Peru\n",
            "Philippines\n",
            "Rwanda\n",
            "Sao Tome and Principe\n",
            "Senegal\n",
            "Sierra Leone\n",
            "Somalia\n",
            "South Sudan\n",
            "Sri Lanka\n",
            "Sudan\n",
            "Syrian Arab Republic\n",
            "Tajikistan\n",
            "Tanzania\n",
            "The Caribbean\n",
            "The Pacific\n",
            "Timor-Leste\n",
            "Togo\n",
            "Tunisia\n",
            "Turkey\n",
            "Uganda\n",
            "Yemen\n",
            "Zambia\n",
            "Zimbabwe\n"
          ],
          "name": "stdout"
        }
      ]
    },
    {
      "cell_type": "code",
      "metadata": {
        "colab": {
          "base_uri": "https://localhost:8080/"
        },
        "id": "jJ2WYOoV20Fs",
        "outputId": "e2ab165f-c438-496c-981f-cf14fb644cea"
      },
      "source": [
        "data=[]\n",
        "\n",
        "\n",
        "linked=[]\n",
        "\n",
        "for i in range (0,length-1,1):\n",
        "\n",
        "\n",
        "  c=l[i]\n",
        "\n",
        "  url=f\"https://www.wfp.org/countries/{c}\"\n",
        "\n",
        "  page=requests.get(url)\n",
        "\n",
        "\n",
        "  soup=BeautifulSoup(page.content,'html.parser')\n",
        "  \n",
        "  \n",
        "  \n",
        "\n",
        "  # print(header)\n",
        "\n",
        "\n",
        "  try:\n",
        "\n",
        "\n",
        "    div=soup.find(\"div\", attrs={'class': 'field-rich-text--container mv4 mv5-lg'})\n",
        "\n",
        "    para=div.text.replace(\"\\n\",\"\").replace(\"\\xa0\",\"\").replace(\"Show more\",\"\").strip()\n",
        "\n",
        "    header=soup.find(\"div\", attrs={'class': 'wfp-u-1 wfp-u-lg-2-5'}).text.replace(\"\\n\",\"\")\n",
        "    \n",
        "    card=soup.find(\"div\", attrs={'class': 'card card--simple'})\n",
        "\n",
        "    links=card.find(\"a\")\n",
        "\n",
        "    link=links[\"href\"]\n",
        "\n",
        "    # print(link)\n",
        "    \n",
        "    # linked.append(link)\n",
        "\n",
        "    url2=link\n",
        "\n",
        "    page=requests.get(url2)\n",
        "\n",
        "\n",
        "    soup2=BeautifulSoup(page.content,'html.parser')\n",
        "\n",
        "    opp=soup2.find(\"div\", attrs={'class': 'wfp-u-1 wfp-u-md-17-24 wfp-box'}).text.replace(\"\\n\",\"\")\n",
        "\n",
        "    # url2=\"{link}\"\n",
        "\n",
        "    # page2=requests.get(url2)\n",
        "\n",
        "    # soup2=BeautifulSoup(page2.content,'html.parser')\n",
        "    # div=soup2.find(\"div\", attrs={'class': 'field-rich-text--container mv4 mv5-lg'})\n",
        "\n",
        "    # print(div)\n",
        "\n",
        "    # print(links[\"href\"])\n",
        "\n",
        "  except:\n",
        "  \n",
        "    para=''\n",
        "    header=''\n",
        "  \n",
        "\n",
        "  # print(para,end='\\n')\n",
        "  \n",
        "  data.insert(i,[l[i],url,link,para,header,opp])\n",
        "\n",
        "\n",
        "  print(\"Data collected of Country : {}\".format(l[i]))\n",
        "\n",
        "\n",
        "\n",
        "df=pd.DataFrame(data, columns=[\"Country\",\"URL\",\"Link\",\"Summary\",\"Header\",\"Strategic Plan\"])\n",
        "\n",
        "print(\"DataFrame Created\")\n",
        "\n",
        "df.to_csv(\"a.csv\")\n",
        "\n",
        "print(\"CSV FILE IS SAVED \")\n",
        "\n",
        "df.head(78)"
      ],
      "execution_count": null,
      "outputs": [
        {
          "output_type": "stream",
          "text": [
            "Data collected of Country : Algeria\n",
            "Data collected of Country : Angola\n",
            "Data collected of Country : Armenia\n",
            "Data collected of Country : Bangladesh\n",
            "Data collected of Country : Benin\n",
            "Data collected of Country : Bhutan\n",
            "Data collected of Country : Bolivia (Plurinational State of)\n",
            "Data collected of Country : Burkina Faso\n",
            "Data collected of Country : Burundi\n",
            "Data collected of Country : Cambodia\n",
            "Data collected of Country : Cameroon\n",
            "Data collected of Country : Central African Republic\n",
            "Data collected of Country : Chad\n",
            "Data collected of Country : China\n",
            "Data collected of Country : Colombia\n",
            "Data collected of Country : Congo\n",
            "Data collected of Country : Côte d'Ivoire\n",
            "Data collected of Country : Cuba\n",
            "Data collected of Country : Democratic People's Republic of Korea\n",
            "Data collected of Country : Democratic Republic of the Congo\n",
            "Data collected of Country : Djibouti\n",
            "Data collected of Country : Dominican Republic\n",
            "Data collected of Country : Ecuador\n",
            "Data collected of Country : Egypt\n",
            "Data collected of Country : El Salvador\n",
            "Data collected of Country : Eswatini\n",
            "Data collected of Country : Ethiopia\n",
            "Data collected of Country : Gambia\n",
            "Data collected of Country : Ghana\n",
            "Data collected of Country : Guatemala\n",
            "Data collected of Country : Guinea\n",
            "Data collected of Country : Guinea-Bissau\n",
            "Data collected of Country : Haiti\n",
            "Data collected of Country : Honduras\n",
            "Data collected of Country : India\n",
            "Data collected of Country : Indonesia\n",
            "Data collected of Country : Iran (Islamic Republic of)\n",
            "Data collected of Country : Iraq\n",
            "Data collected of Country : Jordan\n",
            "Data collected of Country : Kenya\n",
            "Data collected of Country : Kyrgyzstan\n",
            "Data collected of Country : Lao People's Democratic Republic\n",
            "Data collected of Country : Lebanon\n",
            "Data collected of Country : Lesotho\n",
            "Data collected of Country : Liberia\n",
            "Data collected of Country : Libya\n",
            "Data collected of Country : Madagascar\n",
            "Data collected of Country : Malawi\n",
            "Data collected of Country : Mali\n",
            "Data collected of Country : Mauritania\n",
            "Data collected of Country : Mozambique\n",
            "Data collected of Country : Myanmar\n",
            "Data collected of Country : Namibia\n",
            "Data collected of Country : Nepal\n",
            "Data collected of Country : Nicaragua\n",
            "Data collected of Country : Niger\n",
            "Data collected of Country : Nigeria\n",
            "Data collected of Country : Pakistan\n",
            "Data collected of Country : Palestine\n",
            "Data collected of Country : Peru\n",
            "Data collected of Country : Philippines\n",
            "Data collected of Country : Rwanda\n",
            "Data collected of Country : Sao Tome and Principe\n",
            "Data collected of Country : Senegal\n",
            "Data collected of Country : Sierra Leone\n",
            "Data collected of Country : Somalia\n",
            "Data collected of Country : South Sudan\n",
            "Data collected of Country : Sri Lanka\n",
            "Data collected of Country : Sudan\n",
            "Data collected of Country : Syrian Arab Republic\n",
            "Data collected of Country : Tajikistan\n",
            "Data collected of Country : Tanzania\n"
          ],
          "name": "stdout"
        }
      ]
    }
  ]
}