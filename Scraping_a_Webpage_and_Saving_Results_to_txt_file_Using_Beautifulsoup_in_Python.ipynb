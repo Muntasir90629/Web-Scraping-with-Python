{
  "nbformat": 4,
  "nbformat_minor": 0,
  "metadata": {
    "colab": {
      "name": "Scraping a Webpage and Saving Results to txt file Using Beautifulsoup in Python.ipynb",
      "provenance": [],
      "authorship_tag": "ABX9TyNJZWRud+cFhOH2zSVtTK0Q",
      "include_colab_link": true
    },
    "kernelspec": {
      "name": "python3",
      "display_name": "Python 3"
    },
    "language_info": {
      "name": "python"
    }
  },
  "cells": [
    {
      "cell_type": "markdown",
      "metadata": {
        "id": "view-in-github",
        "colab_type": "text"
      },
      "source": [
        "<a href=\"https://colab.research.google.com/github/Muntasir90629/Web-Scraping-with-Python/blob/main/Scraping_a_Webpage_and_Saving_Results_to_txt_file_Using_Beautifulsoup_in_Python.ipynb\" target=\"_parent\"><img src=\"https://colab.research.google.com/assets/colab-badge.svg\" alt=\"Open In Colab\"/></a>"
      ]
    },
    {
      "cell_type": "code",
      "metadata": {
        "id": "GcyBiY8PZE-r"
      },
      "source": [
        "from bs4 import BeautifulSoup\n",
        "\n",
        "import urllib.request\n",
        "\n",
        "from IPython.display import HTML\n",
        "\n",
        "import re"
      ],
      "execution_count": 5,
      "outputs": []
    },
    {
      "cell_type": "code",
      "metadata": {
        "colab": {
          "base_uri": "https://localhost:8080/"
        },
        "id": "z709_bHQZ2zC",
        "outputId": "7f54c037-40d2-407f-9246-fe5974984257"
      },
      "source": [
        "r=urllib.request.urlopen('https://analytics.usa.gov/').read()\n",
        "soup=BeautifulSoup(r,\"lxml\")\n",
        "\n",
        "type(soup)"
      ],
      "execution_count": 8,
      "outputs": [
        {
          "output_type": "execute_result",
          "data": {
            "text/plain": [
              "bs4.BeautifulSoup"
            ]
          },
          "metadata": {
            "tags": []
          },
          "execution_count": 8
        }
      ]
    },
    {
      "cell_type": "code",
      "metadata": {
        "colab": {
          "base_uri": "https://localhost:8080/"
        },
        "id": "0qM5HoPabgf6",
        "outputId": "048c71b1-dd3b-4961-892e-59ce01cdce3f"
      },
      "source": [
        "print(soup.prettify()[:100])"
      ],
      "execution_count": 10,
      "outputs": [
        {
          "output_type": "stream",
          "text": [
            "<!DOCTYPE html>\n",
            "<html lang=\"en\">\n",
            " <!-- Initalize title and data source variables -->\n",
            " <head>\n",
            "  <!--\n",
            "\n"
          ],
          "name": "stdout"
        }
      ]
    },
    {
      "cell_type": "code",
      "metadata": {
        "colab": {
          "base_uri": "https://localhost:8080/"
        },
        "id": "5JF_HviYbvdy",
        "outputId": "dcab8aee-5154-4a07-df8b-31a533ec97f7"
      },
      "source": [
        "for link in soup.find_all('a'):\n",
        "  print(link.get('href'))"
      ],
      "execution_count": 12,
      "outputs": [
        {
          "output_type": "stream",
          "text": [
            "/\n",
            "#explanation\n",
            "https://analytics.usa.gov/data/\n",
            "https://open.gsa.gov/api/dap/\n",
            "data/\n",
            "#top-pages-realtime\n",
            "#top-pages-7-days\n",
            "#top-pages-30-days\n",
            "https://analytics.usa.gov/data/live/all-pages-realtime.csv\n",
            "https://analytics.usa.gov/data/live/all-domains-30-days.csv\n",
            "https://www.digitalgov.gov/services/dap/\n",
            "https://www.digitalgov.gov/services/dap/common-questions-about-dap-faq/#part-4\n",
            "https://support.google.com/analytics/answer/2763052?hl=en\n",
            "https://analytics.usa.gov/data/live/second-level-domains.csv\n",
            "https://analytics.usa.gov/data/live/sites.csv\n",
            "mailto:DAP@support.digitalgov.gov\n",
            "https://analytics.usa.gov/data/\n",
            "https://open.gsa.gov/api/dap/\n",
            "mailto:DAP@support.digitalgov.gov\n",
            "https://github.com/GSA/analytics.usa.gov/issues\n",
            "https://github.com/GSA/analytics.usa.gov\n",
            "https://github.com/18F/analytics-reporter\n",
            "http://www.gsa.gov/\n",
            "https://www.digitalgov.gov/services/dap/\n",
            "https://cloud.gov/\n"
          ],
          "name": "stdout"
        }
      ]
    },
    {
      "cell_type": "code",
      "metadata": {
        "id": "E4_k4oXxcL9j"
      },
      "source": [
        "print(soup.get_text())"
      ],
      "execution_count": null,
      "outputs": []
    },
    {
      "cell_type": "code",
      "metadata": {
        "colab": {
          "base_uri": "https://localhost:8080/"
        },
        "id": "IRCl2xMRcgZ_",
        "outputId": "89445e4d-3b31-49c0-a17e-cc415b06f45a"
      },
      "source": [
        "print(soup.prettify()[0:1000])"
      ],
      "execution_count": 18,
      "outputs": [
        {
          "output_type": "stream",
          "text": [
            "<!DOCTYPE html>\n",
            "<html lang=\"en\">\n",
            " <!-- Initalize title and data source variables -->\n",
            " <head>\n",
            "  <!--\n",
            "\n",
            "    Hi! Welcome to our source code.\n",
            "\n",
            "    This dashboard uses data from the Digital Analytics Program, a US\n",
            "    government team inside the General Services Administration.\n",
            "\n",
            "\n",
            "    For a detailed tech breakdown of how 18F and friends built this site:\n",
            "\n",
            "    https://18f.gsa.gov/2015/03/19/how-we-built-analytics-usa-gov/\n",
            "\n",
            "\n",
            "    This is a fully open source project, and your contributions are welcome.\n",
            "\n",
            "    Frontend static site: https://github.com/18F/analytics.usa.gov\n",
            "    Backend data reporting: https://github.com/18F/analytics-reporter\n",
            "\n",
            "    -->\n",
            "  <meta charset=\"utf-8\"/>\n",
            "  <meta content=\"IE=Edge\" http-equiv=\"X-UA-Compatible\"/>\n",
            "  <meta content=\"NjbZn6hQe7OwV-nTsa6nLmtrOUcSGPRyFjxm5zkmCcg\" name=\"google-site-verification\"/>\n",
            "  <link href=\"/css/vendor/css/uswds.v0.9.6.css\" rel=\"stylesheet\"/>\n",
            "  <link href=\"/css/public_analytics.css\" rel=\"stylesheet\"/>\n",
            "  <link href=\"/images/analytics-favicon.ico\" rel=\"ic\n"
          ],
          "name": "stdout"
        }
      ]
    },
    {
      "cell_type": "code",
      "metadata": {
        "colab": {
          "base_uri": "https://localhost:8080/"
        },
        "id": "jMoHMlxmcrYE",
        "outputId": "066ebb9f-bdd6-4380-edcb-5d5df58591ea"
      },
      "source": [
        "for link in soup.find_all('a',attrs={'href':re.compile(\"^http\")}):\n",
        "  \n",
        "  \n",
        "  print(link)"
      ],
      "execution_count": 21,
      "outputs": [
        {
          "output_type": "stream",
          "text": [
            "<a href=\"https://analytics.usa.gov/data/\">Data</a>\n",
            "<a href=\"https://open.gsa.gov/api/dap/\" rel=\"noopener\" target=\"_blank\">API</a>\n",
            "<a href=\"https://analytics.usa.gov/data/live/all-pages-realtime.csv\">Download the full dataset.</a>\n",
            "<a href=\"https://analytics.usa.gov/data/live/all-domains-30-days.csv\">Download the full dataset.</a>\n",
            "<a class=\"external-link\" href=\"https://www.digitalgov.gov/services/dap/\">Digital Analytics Program</a>\n",
            "<a class=\"external-link\" href=\"https://www.digitalgov.gov/services/dap/common-questions-about-dap-faq/#part-4\">does not track individuals</a>\n",
            "<a class=\"external-link\" href=\"https://support.google.com/analytics/answer/2763052?hl=en\">anonymizes the IP addresses</a>\n",
            "<a class=\"external-link\" href=\"https://analytics.usa.gov/data/live/second-level-domains.csv\">400 executive branch government domains</a>\n",
            "<a class=\"external-link\" href=\"https://analytics.usa.gov/data/live/sites.csv\">about 5,700 total websites</a>\n",
            "<a href=\"https://analytics.usa.gov/data/\">download the data here.</a>\n",
            "<a href=\"https://open.gsa.gov/api/dap/\" rel=\"noopener\" target=\"_blank\"> API project</a>\n",
            "<a class=\"usa-button usa-button-secondary-inverse\" href=\"https://github.com/GSA/analytics.usa.gov/issues\">\n",
            "<img alt=\"Github Icon\" class=\"github-icon\" src=\"/images/github-logo-white.svg\"/>\n",
            "                  Suggest a feature or report an issue\n",
            "            </a>\n",
            "<a href=\"https://github.com/GSA/analytics.usa.gov\">\n",
            "<img alt=\"Github Icon\" class=\"github-icon\" src=\"/images/github-logo.svg\"/>\n",
            "              View our code on GitHub</a>\n",
            "<a href=\"https://github.com/18F/analytics-reporter\">\n",
            "<img alt=\"Github Icon\" class=\"github-icon\" src=\"/images/github-logo.svg\"/>\n",
            "              View our code for the data on GitHub</a>\n",
            "<a href=\"http://www.gsa.gov/\">\n",
            "<img alt=\"GSA\" src=\"/images/gsa-logo.svg\"/>\n",
            "</a>\n",
            "<a href=\"https://www.digitalgov.gov/services/dap/\">Digital Analytics Program</a>\n",
            "<a href=\"https://cloud.gov/\">cloud.gov</a>\n"
          ],
          "name": "stdout"
        }
      ]
    },
    {
      "cell_type": "code",
      "metadata": {
        "colab": {
          "base_uri": "https://localhost:8080/"
        },
        "id": "dFSyolvzdvVl",
        "outputId": "e4307c3c-ebe8-4fa0-9e39-d95b4f5adcfc"
      },
      "source": [
        "file=open(\"parse.txt\",\"w\")\n",
        "\n",
        "for link in soup.find_all('a',attrs={'href':re.compile(\"^http\")}):\n",
        "  \n",
        "  \n",
        "  soup_link=str(link)\n",
        "\n",
        "  print(soup_link)\n",
        "\n",
        "  file.write(soup_link)\n",
        "\n",
        "\n",
        "file.flush()\n",
        "\n",
        "file.close\n"
      ],
      "execution_count": 24,
      "outputs": [
        {
          "output_type": "stream",
          "text": [
            "<a href=\"https://analytics.usa.gov/data/\">Data</a>\n",
            "<a href=\"https://open.gsa.gov/api/dap/\" rel=\"noopener\" target=\"_blank\">API</a>\n",
            "<a href=\"https://analytics.usa.gov/data/live/all-pages-realtime.csv\">Download the full dataset.</a>\n",
            "<a href=\"https://analytics.usa.gov/data/live/all-domains-30-days.csv\">Download the full dataset.</a>\n",
            "<a class=\"external-link\" href=\"https://www.digitalgov.gov/services/dap/\">Digital Analytics Program</a>\n",
            "<a class=\"external-link\" href=\"https://www.digitalgov.gov/services/dap/common-questions-about-dap-faq/#part-4\">does not track individuals</a>\n",
            "<a class=\"external-link\" href=\"https://support.google.com/analytics/answer/2763052?hl=en\">anonymizes the IP addresses</a>\n",
            "<a class=\"external-link\" href=\"https://analytics.usa.gov/data/live/second-level-domains.csv\">400 executive branch government domains</a>\n",
            "<a class=\"external-link\" href=\"https://analytics.usa.gov/data/live/sites.csv\">about 5,700 total websites</a>\n",
            "<a href=\"https://analytics.usa.gov/data/\">download the data here.</a>\n",
            "<a href=\"https://open.gsa.gov/api/dap/\" rel=\"noopener\" target=\"_blank\"> API project</a>\n",
            "<a class=\"usa-button usa-button-secondary-inverse\" href=\"https://github.com/GSA/analytics.usa.gov/issues\">\n",
            "<img alt=\"Github Icon\" class=\"github-icon\" src=\"/images/github-logo-white.svg\"/>\n",
            "                  Suggest a feature or report an issue\n",
            "            </a>\n",
            "<a href=\"https://github.com/GSA/analytics.usa.gov\">\n",
            "<img alt=\"Github Icon\" class=\"github-icon\" src=\"/images/github-logo.svg\"/>\n",
            "              View our code on GitHub</a>\n",
            "<a href=\"https://github.com/18F/analytics-reporter\">\n",
            "<img alt=\"Github Icon\" class=\"github-icon\" src=\"/images/github-logo.svg\"/>\n",
            "              View our code for the data on GitHub</a>\n",
            "<a href=\"http://www.gsa.gov/\">\n",
            "<img alt=\"GSA\" src=\"/images/gsa-logo.svg\"/>\n",
            "</a>\n",
            "<a href=\"https://www.digitalgov.gov/services/dap/\">Digital Analytics Program</a>\n",
            "<a href=\"https://cloud.gov/\">cloud.gov</a>\n"
          ],
          "name": "stdout"
        },
        {
          "output_type": "execute_result",
          "data": {
            "text/plain": [
              "<function TextIOWrapper.close>"
            ]
          },
          "metadata": {
            "tags": []
          },
          "execution_count": 24
        }
      ]
    },
    {
      "cell_type": "code",
      "metadata": {
        "colab": {
          "base_uri": "https://localhost:8080/",
          "height": 35
        },
        "id": "eB71hqRRewPs",
        "outputId": "3a45aab7-a95b-40e9-90ae-4592e66b883d"
      },
      "source": [
        "%pwd"
      ],
      "execution_count": 25,
      "outputs": [
        {
          "output_type": "execute_result",
          "data": {
            "application/vnd.google.colaboratory.intrinsic+json": {
              "type": "string"
            },
            "text/plain": [
              "'/content'"
            ]
          },
          "metadata": {
            "tags": []
          },
          "execution_count": 25
        }
      ]
    }
  ]
}