{
  "nbformat": 4,
  "nbformat_minor": 0,
  "metadata": {
    "colab": {
      "name": "Multiple page scraping.ipynb",
      "provenance": [],
      "collapsed_sections": [],
      "authorship_tag": "ABX9TyNVUjvw8Bh5EzBHxhGUe/Ds",
      "include_colab_link": true
    },
    "kernelspec": {
      "name": "python3",
      "display_name": "Python 3"
    },
    "language_info": {
      "name": "python"
    }
  },
  "cells": [
    {
      "cell_type": "markdown",
      "metadata": {
        "id": "view-in-github",
        "colab_type": "text"
      },
      "source": [
        "<a href=\"https://colab.research.google.com/github/Muntasir90629/Web-Scraping-with-Python/blob/main/Multiple_page_scraping.ipynb\" target=\"_parent\"><img src=\"https://colab.research.google.com/assets/colab-badge.svg\" alt=\"Open In Colab\"/></a>"
      ]
    },
    {
      "cell_type": "code",
      "metadata": {
        "id": "rFgb7TTdGHNt"
      },
      "source": [
        "import requests\n",
        "\n",
        "from bs4 import BeautifulSoup\n",
        "\n",
        "import pandas as pd\n"
      ],
      "execution_count": null,
      "outputs": []
    },
    {
      "cell_type": "code",
      "metadata": {
        "id": "XcA_nTb8HL9E"
      },
      "source": [
        "def extract(page):\n",
        "\n",
        "  headers={'User-Agent':'Mozilla/5.0 (Windows NT 10.0; Win64; x64) AppleWebKit/537.36 (KHTML, like Gecko) Chrome/91.0.4472.106 Safari/537.36'}\n",
        "\n",
        "  url=f'https://www.indeed.com/jobs?q=Store+associate&start={page}'\n",
        "\n",
        "  r=requests.get(url,headers)\n",
        "\n",
        "  soup=BeautifulSoup(r.content,'html.parser')\n",
        "\n",
        "  return soup\n"
      ],
      "execution_count": null,
      "outputs": []
    },
    {
      "cell_type": "code",
      "metadata": {
        "id": "8vj4uGCdLQ8u"
      },
      "source": [
        "def transform(soup):\n",
        "\n",
        "  divs=soup.find_all('div',class_ = 'jobsearch-SerpJobCard unifiedRow row result clickcard')\n",
        "\n",
        "  for item in divs:\n",
        "\n",
        "    title=item.find('a').text.strip()\n",
        "\n",
        "    company=item.find('span',class_= 'company').text.strip()\n",
        "    \n",
        "    try:\n",
        "\n",
        "      salary=item.find('span', class_='salaryText').text.strip()\n",
        "    \n",
        "    except:\n",
        "\n",
        "      salary=''\n",
        "    \n",
        "    summary=item.find('div',class_ ='summary').text.strip().replace('\\n','')\n",
        "\n",
        "    job= {\n",
        "        \n",
        "        'title':title,\n",
        "\n",
        "        'company':company,\n",
        "\n",
        "        'salary':salary,\n",
        "\n",
        "        'summarry':summarry\n",
        "\n",
        "\n",
        "    }\n",
        "\n",
        "    joblist.append(job)\n",
        "  \n",
        "  return  \n"
      ],
      "execution_count": null,
      "outputs": []
    },
    {
      "cell_type": "code",
      "metadata": {
        "id": "tfKtzRVQcT_e"
      },
      "source": [
        "joblist=[]"
      ],
      "execution_count": null,
      "outputs": []
    },
    {
      "cell_type": "code",
      "metadata": {
        "id": "IMB_DMysc9qo"
      },
      "source": [
        "for i in range(0,40,10):\n",
        "\n",
        "  print(\"getting page , {i}\")\n",
        "\n",
        "  c=extract(i)\n",
        "\n",
        "  transform(c)\n",
        "\n",
        "print(len(joblist))"
      ],
      "execution_count": null,
      "outputs": []
    },
    {
      "cell_type": "code",
      "metadata": {
        "id": "f09QNkRRcX9C"
      },
      "source": [
        "df=pd.DataFrame(joblist)"
      ],
      "execution_count": null,
      "outputs": []
    },
    {
      "cell_type": "code",
      "metadata": {
        "id": "i_tFGZlTdfpB"
      },
      "source": [
        "print(df.head())"
      ],
      "execution_count": null,
      "outputs": []
    },
    {
      "cell_type": "code",
      "metadata": {
        "id": "14VDMLDTdjmF"
      },
      "source": [
        "df.to_csv('job.csv')"
      ],
      "execution_count": null,
      "outputs": []
    }
  ]
}