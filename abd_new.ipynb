{
  "nbformat": 4,
  "nbformat_minor": 0,
  "metadata": {
    "colab": {
      "name": "abd.ipynb",
      "provenance": [],
      "collapsed_sections": [],
      "include_colab_link": true
    },
    "kernelspec": {
      "display_name": "Python 3",
      "name": "python3"
    },
    "language_info": {
      "name": "python"
    }
  },
  "cells": [
    {
      "cell_type": "markdown",
      "metadata": {
        "id": "view-in-github",
        "colab_type": "text"
      },
      "source": [
        "<a href=\"https://colab.research.google.com/github/Muntasir90629/Web-Scraping-with-Python/blob/main/abd_new.ipynb\" target=\"_parent\"><img src=\"https://colab.research.google.com/assets/colab-badge.svg\" alt=\"Open In Colab\"/></a>"
      ]
    },
    {
      "cell_type": "code",
      "metadata": {
        "id": "brm-kbchtnLM"
      },
      "source": [
        "import pandas as pd\n",
        "\n",
        "from bs4 import BeautifulSoup\n",
        "\n",
        "import requests\n",
        "\n",
        "import os.path"
      ],
      "execution_count": 98,
      "outputs": []
    },
    {
      "cell_type": "code",
      "metadata": {
        "id": "gQQRd_qstw2g"
      },
      "source": [
        "url=\"https://www.wfp.org/countries/ecuador\""
      ],
      "execution_count": 99,
      "outputs": []
    },
    {
      "cell_type": "code",
      "metadata": {
        "id": "CP2inIGwtz2C"
      },
      "source": [
        "page=requests.get(url)"
      ],
      "execution_count": 100,
      "outputs": []
    },
    {
      "cell_type": "code",
      "metadata": {
        "id": "C_p55A74t3V7"
      },
      "source": [
        "soup=BeautifulSoup(page.content,'html.parser')"
      ],
      "execution_count": 101,
      "outputs": []
    },
    {
      "cell_type": "code",
      "metadata": {
        "colab": {
          "base_uri": "https://localhost:8080/"
        },
        "id": "X886Srcgxu9D",
        "outputId": "54f366d4-4b51-427c-adfa-eadbd550500b"
      },
      "source": [
        "card=soup.find(\"div\", attrs={'class': 'card card--simple'})\n",
        "\n",
        "links=card.find(\"a\")\n",
        "\n",
        "print(links[\"href\"])"
      ],
      "execution_count": 102,
      "outputs": [
        {
          "output_type": "stream",
          "text": [
            "https://www.wfp.org/operations/ec01-ecuador-country-strategic-plan-2017-2021\n"
          ],
          "name": "stdout"
        }
      ]
    },
    {
      "cell_type": "code",
      "metadata": {
        "colab": {
          "base_uri": "https://localhost:8080/"
        },
        "id": "I_0rvD_VtU_k",
        "outputId": "d30b8221-ea42-487d-f002-c4c52740e41c"
      },
      "source": [
        "import re\n",
        "\n",
        "# div=soup.find(\"div\", attrs={'class': 'field-rich-text--container mv4 mv5-lg'})\n",
        "# para=div.text.replace(\"\\n\",\"\").replace(\"\\xa0\",\"\").replace(\"Show more\",\"\").strip()\n",
        "\n",
        "# para\n",
        "\n",
        "import re\n",
        "\n",
        "# s=para.split(\".\")\n",
        "    \n",
        "# items=re.findall(\"acute\",s,re.MULTILINE)\n",
        "\n",
        "# for x in items:\n",
        "\n",
        "#   print(x)\n",
        "\n",
        "div=soup.find(\"div\", attrs={'class': 'field field--field-paragraph-description'})\n",
        "para=div.text.replace(\"\\n\",\"\").replace(\"\\xa0\",\"\").replace(\"Show more\",\"\").strip()\n",
        "\n",
        "\n",
        "matched_lines = [line for line in para.split('.') if \"food insecure\" in line]\n",
        "\n",
        "print(matched_lines)\n",
        "\n",
        "\n",
        "# facts_with_is= [fact.find(string=re.compile(\"SDG\")) for fact in  para.split(\".\") ]\n",
        "\n",
        "# facts_with_is = [fact.find_parent().get_text() for fact in facts_with_is if fact]\n",
        "\n",
        "# print(facts_with_is)\n",
        "\n",
        "# facts=soup.select(\"div.field-rich-text--container mv4 mv5-lg\")\n",
        "\n",
        "# facts_with_is= [fact.find(string=re.compile(\"million\")) for fact in para.split(\".\")]\n",
        "# facts_with_is = [fact.find_parent().get_text() for fact in facts_with_is if fact]\n",
        "\n",
        "# print(facts_with_is)"
      ],
      "execution_count": 103,
      "outputs": [
        {
          "output_type": "stream",
          "text": [
            "[]\n"
          ],
          "name": "stdout"
        }
      ]
    },
    {
      "cell_type": "code",
      "metadata": {
        "colab": {
          "base_uri": "https://localhost:8080/"
        },
        "id": "nu-22Jg_uHEn",
        "outputId": "fec188e2-7bb9-4ec1-f363-0082f2fe4958"
      },
      "source": [
        "div=soup.find(\"div\", attrs={'class': 'field-rich-text--container mv4 mv5-lg'})\n",
        "para=div.text.replace(\"\\n\",\"\").replace(\"\\xa0\",\"\").replace(\"Show more\",\"\").strip()\n",
        "\n",
        "print(para)"
      ],
      "execution_count": 104,
      "outputs": [
        {
          "output_type": "stream",
          "text": [
            "In recent years Ecuador has exhibited GDP growth, which has resulted in declining poverty levels and enabled increased investments in social policies, infrastructure, health and education. However, the current economic slowdown, driven by declining oil prices and other factors, may undermine this positive trend.Ecuador is also highly prone to natural disasters, resulting in loss of life, livelihoods and infrastructure. In April 2016, a devastating earthquake struck the northern coast, and reconstruction costs were estimated at nearly 3 percent of the GDP.Vulnerability to natural disasters, soil erosion, environmental degradation and climate change threaten the sustainability of food systems. For these reasons, strengthening preparedness and response mechanisms, as well as enhancing the resilience of communities and individuals to adverse events is an area of growing interest for the World Food Programmee (WFP) and the Government.To \"leave no one behind\" as mandated by the 2030 Development Agenda and achieve Sustainable Development Goal 2 on ending hunger, it is essential toassistthe most vulnerable populations in meeting their basic food and nutrition needs all year long. WFP’s food assistance consists in the provision of vouchers to purchase fresh, nutritious and healthy foods, and is conditional on the attendance of nutrition trainings. To combat malnutrition in children, WFP also focuses on the first 1,000 days from conception to the child’s second birthday, ensuring that pregnant and nursing women have access to, and information on, the nutrients required for the full development of their babies.Byhelping people meet their food needs through voucher programmes, WFP enables smallholder farmers- 64 percent of the agricultural population - toincrease their incomes by improving productivity, diversifying food productionand accessing formal markets.Since WFP first started in the country in 1964, its role has changed considerably, from the delivery of programmes (such as school meals), to an increasingly advisory role, providing the Government of Ecuador with technical and policy support in its fields of expertise. WFP’s work is aligned with national priorities, and aims to buildsynergies with the Government’s social protection safety nets. An example of this was seen in the response to the 2016 earthquake, when WFP integrated its cash-based assistance into the national safety nets system. This resulted in a considerable reduction in the time spent re-registering beneficiaries and monitoring operations, and strengthened WFP's partnershipwith the Government.\n"
          ],
          "name": "stdout"
        }
      ]
    },
    {
      "cell_type": "code",
      "metadata": {
        "colab": {
          "base_uri": "https://localhost:8080/",
          "height": 35
        },
        "id": "k-XvDuYHwAP9",
        "outputId": "39eba3b5-e836-4b1c-f0aa-1369ca362c56"
      },
      "source": [
        "div=soup.find_all(\"div\", attrs={'class': 'stat--item tl-lg tc'})\n",
        "\n",
        "div[1].text.replace(\"\\n\",\" \").replace(\"\\xa0\",\"\").replace(\"Show more\",\"\").strip()\n"
      ],
      "execution_count": 105,
      "outputs": [
        {
          "output_type": "execute_result",
          "data": {
            "application/vnd.google.colaboratory.intrinsic+json": {
              "type": "string"
            },
            "text/plain": [
              "'40% of the rural population lives below the poverty line'"
            ]
          },
          "metadata": {
            "tags": []
          },
          "execution_count": 105
        }
      ]
    },
    {
      "cell_type": "code",
      "metadata": {
        "colab": {
          "base_uri": "https://localhost:8080/",
          "height": 35
        },
        "id": "CDvxfUDi6MY8",
        "outputId": "85d39375-ee32-4d1f-a334-b341ee0fd0c4"
      },
      "source": [
        "div=soup.find(\"div\", attrs={'class': 'stat--item tl-lg tc'})\n",
        "\n",
        "div.text.replace(\"\\n\",\" \").replace(\"\\xa0\",\"\").replace(\"Show more\",\"\").strip()"
      ],
      "execution_count": 106,
      "outputs": [
        {
          "output_type": "execute_result",
          "data": {
            "application/vnd.google.colaboratory.intrinsic+json": {
              "type": "string"
            },
            "text/plain": [
              "'17.3  million population'"
            ]
          },
          "metadata": {
            "tags": []
          },
          "execution_count": 106
        }
      ]
    },
    {
      "cell_type": "code",
      "metadata": {
        "colab": {
          "base_uri": "https://localhost:8080/"
        },
        "id": "dMHzyGFPbvcm",
        "outputId": "3632d6a7-8dd8-4655-9315-3558f0c3c48f"
      },
      "source": [
        "\n",
        "#important\n",
        "\n",
        "\n",
        "\n",
        "div=soup.find(\"div\", attrs={'field field--field-paragraph-sidebar'})\n",
        "\n",
        "div=div.text.replace(\"\\n\",\" \").replace(\"          \",\".\").replace(\"         \",\".\").strip()\n",
        "\n",
        "print(div)\n",
        "\n",
        "\n",
        "matched_lines = [line for line in div.split('.') if \"food insecure\" in line]\n",
        "\n",
        "print(matched_lines)\n",
        "\n",
        "matched_lines = [line for line in div.split('.') if \"population\" in line]\n",
        "\n",
        "print(matched_lines)\n",
        "\n",
        "\n",
        "\n",
        "\n",
        "\n",
        "\n",
        "\n"
      ],
      "execution_count": 107,
      "outputs": [
        {
          "output_type": "stream",
          "text": [
            "17.3  million population.40% of the rural population lives below the poverty line.62% of children under1 suffer from anaemia\n",
            "[]\n",
            "['3  million population', '40% of the rural population lives below the poverty line']\n"
          ],
          "name": "stdout"
        }
      ]
    },
    {
      "cell_type": "code",
      "metadata": {
        "id": "8Ewmcg3f00w_"
      },
      "source": [
        "url=\"https://www.wfp.org/countries\""
      ],
      "execution_count": 108,
      "outputs": []
    },
    {
      "cell_type": "code",
      "metadata": {
        "id": "fHp9mWXc0661"
      },
      "source": [
        "page=requests.get(url)\n"
      ],
      "execution_count": 109,
      "outputs": []
    },
    {
      "cell_type": "code",
      "metadata": {
        "id": "BLQrYuDe0-hb"
      },
      "source": [
        "soup=BeautifulSoup(page.content,'html.parser')"
      ],
      "execution_count": 110,
      "outputs": []
    },
    {
      "cell_type": "code",
      "metadata": {
        "colab": {
          "base_uri": "https://localhost:8080/",
          "height": 35
        },
        "id": "Hyj8w3Si1MZo",
        "outputId": "b81837b8-dc33-4ec5-f694-70fa701048ad"
      },
      "source": [
        "div=soup.find_all(\"div\", attrs={'class': 'where-we-work--item where-we-work--country--content'})\n",
        "\n",
        "length=len(div)\n",
        "\n",
        "div[0].text.replace(\"\\n\",\"\")"
      ],
      "execution_count": 111,
      "outputs": [
        {
          "output_type": "execute_result",
          "data": {
            "application/vnd.google.colaboratory.intrinsic+json": {
              "type": "string"
            },
            "text/plain": [
              "'Afghanistan'"
            ]
          },
          "metadata": {
            "tags": []
          },
          "execution_count": 111
        }
      ]
    },
    {
      "cell_type": "code",
      "metadata": {
        "colab": {
          "base_uri": "https://localhost:8080/"
        },
        "id": "sNw27-3R1wBW",
        "outputId": "1e0f28dc-eb45-4a24-d337-508f24778132"
      },
      "source": [
        "l=[]\n",
        "for i in range (1,83,1):\n",
        "\n",
        "  print(div[i].text.replace(\"\\n\",\"\"))\n",
        "  \n",
        "  c=div[i].text.replace(\"\\n\",\"\")\n",
        "\n",
        "  l.append(c)\n",
        "\n",
        "  \n",
        "  "
      ],
      "execution_count": 112,
      "outputs": [
        {
          "output_type": "stream",
          "text": [
            "Algeria\n",
            "Angola\n",
            "Armenia\n",
            "Bangladesh\n",
            "Benin\n",
            "Bhutan\n",
            "Bolivia (Plurinational State of)\n",
            "Burkina Faso\n",
            "Burundi\n",
            "Cambodia\n",
            "Cameroon\n",
            "Central African Republic\n",
            "Chad\n",
            "China\n",
            "Colombia\n",
            "Congo\n",
            "Côte d'Ivoire\n",
            "Cuba\n",
            "Democratic People's Republic of Korea\n",
            "Democratic Republic of the Congo\n",
            "Djibouti\n",
            "Dominican Republic\n",
            "Ecuador\n",
            "Egypt\n",
            "El Salvador\n",
            "Eswatini\n",
            "Ethiopia\n",
            "Gambia\n",
            "Ghana\n",
            "Guatemala\n",
            "Guinea\n",
            "Guinea-Bissau\n",
            "Haiti\n",
            "Honduras\n",
            "India\n",
            "Indonesia\n",
            "Iran (Islamic Republic of)\n",
            "Iraq\n",
            "Jordan\n",
            "Kenya\n",
            "Kyrgyzstan\n",
            "Lao People's Democratic Republic\n",
            "Lebanon\n",
            "Lesotho\n",
            "Liberia\n",
            "Libya\n",
            "Madagascar\n",
            "Malawi\n",
            "Mali\n",
            "Mauritania\n",
            "Mozambique\n",
            "Myanmar\n",
            "Namibia\n",
            "Nepal\n",
            "Nicaragua\n",
            "Niger\n",
            "Nigeria\n",
            "Pakistan\n",
            "Palestine\n",
            "Peru\n",
            "Philippines\n",
            "Rwanda\n",
            "Sao Tome and Principe\n",
            "Senegal\n",
            "Sierra Leone\n",
            "Somalia\n",
            "South Sudan\n",
            "Sri Lanka\n",
            "Sudan\n",
            "Syrian Arab Republic\n",
            "Tajikistan\n",
            "Tanzania\n",
            "The Caribbean\n",
            "The Pacific\n",
            "Timor-Leste\n",
            "Togo\n",
            "Tunisia\n",
            "Turkey\n",
            "Uganda\n",
            "Yemen\n",
            "Zambia\n",
            "Zimbabwe\n"
          ],
          "name": "stdout"
        }
      ]
    },
    {
      "cell_type": "code",
      "metadata": {
        "colab": {
          "base_uri": "https://localhost:8080/"
        },
        "id": "C_fDykERdTKM",
        "outputId": "5e8a9f16-bf73-4477-81c7-f60d972fb54b"
      },
      "source": [
        "for i in range (1,82,1):\n",
        "\n",
        "  print(l[i])"
      ],
      "execution_count": 113,
      "outputs": [
        {
          "output_type": "stream",
          "text": [
            "Angola\n",
            "Armenia\n",
            "Bangladesh\n",
            "Benin\n",
            "Bhutan\n",
            "Bolivia (Plurinational State of)\n",
            "Burkina Faso\n",
            "Burundi\n",
            "Cambodia\n",
            "Cameroon\n",
            "Central African Republic\n",
            "Chad\n",
            "China\n",
            "Colombia\n",
            "Congo\n",
            "Côte d'Ivoire\n",
            "Cuba\n",
            "Democratic People's Republic of Korea\n",
            "Democratic Republic of the Congo\n",
            "Djibouti\n",
            "Dominican Republic\n",
            "Ecuador\n",
            "Egypt\n",
            "El Salvador\n",
            "Eswatini\n",
            "Ethiopia\n",
            "Gambia\n",
            "Ghana\n",
            "Guatemala\n",
            "Guinea\n",
            "Guinea-Bissau\n",
            "Haiti\n",
            "Honduras\n",
            "India\n",
            "Indonesia\n",
            "Iran (Islamic Republic of)\n",
            "Iraq\n",
            "Jordan\n",
            "Kenya\n",
            "Kyrgyzstan\n",
            "Lao People's Democratic Republic\n",
            "Lebanon\n",
            "Lesotho\n",
            "Liberia\n",
            "Libya\n",
            "Madagascar\n",
            "Malawi\n",
            "Mali\n",
            "Mauritania\n",
            "Mozambique\n",
            "Myanmar\n",
            "Namibia\n",
            "Nepal\n",
            "Nicaragua\n",
            "Niger\n",
            "Nigeria\n",
            "Pakistan\n",
            "Palestine\n",
            "Peru\n",
            "Philippines\n",
            "Rwanda\n",
            "Sao Tome and Principe\n",
            "Senegal\n",
            "Sierra Leone\n",
            "Somalia\n",
            "South Sudan\n",
            "Sri Lanka\n",
            "Sudan\n",
            "Syrian Arab Republic\n",
            "Tajikistan\n",
            "Tanzania\n",
            "The Caribbean\n",
            "The Pacific\n",
            "Timor-Leste\n",
            "Togo\n",
            "Tunisia\n",
            "Turkey\n",
            "Uganda\n",
            "Yemen\n",
            "Zambia\n",
            "Zimbabwe\n"
          ],
          "name": "stdout"
        }
      ]
    },
    {
      "cell_type": "code",
      "metadata": {
        "id": "eFIAJEszFLlE",
        "colab": {
          "base_uri": "https://localhost:8080/"
        },
        "outputId": "8d7a9652-e2d8-4801-ba40-b27fe0116e4b"
      },
      "source": [
        "from google.colab import drive\n",
        "drive.mount('/content/drive')"
      ],
      "execution_count": 114,
      "outputs": [
        {
          "output_type": "stream",
          "text": [
            "Drive already mounted at /content/drive; to attempt to forcibly remount, call drive.mount(\"/content/drive\", force_remount=True).\n"
          ],
          "name": "stdout"
        }
      ]
    },
    {
      "cell_type": "code",
      "metadata": {
        "id": "80rOOVVv1VKO",
        "colab": {
          "base_uri": "https://localhost:8080/",
          "height": 1000
        },
        "outputId": "3c0719a8-7d7e-44a7-9378-7772b1201110"
      },
      "source": [
        "data=[]\n",
        "\n",
        "\n",
        "\n",
        "for j in range (0,length-1,1):\n",
        "\n",
        "\n",
        "  c=l[j]\n",
        "\n",
        "  url=f\"https://www.wfp.org/countries/{c}\"\n",
        "\n",
        "  page=requests.get(url)\n",
        "\n",
        "\n",
        "  soup=BeautifulSoup(page.content,'html.parser')\n",
        "  \n",
        "  \n",
        "  \n",
        "\n",
        "  # print(header)\n",
        "\n",
        "\n",
        "  try:\n",
        "\n",
        "\n",
        "    div=soup.find(\"div\", attrs={'class': 'field-rich-text--container mv4 mv5-lg'})\n",
        "\n",
        "    para=div.text.replace(\"\\n\",\"\").replace(\"\\xa0\",\"\").replace(\"Show more\",\"\").strip()\n",
        "\n",
        "\n",
        "    import os.path\n",
        "\n",
        "    save_path = '/content/drive/MyDrive/Website'\n",
        "\n",
        "    Directory1=save_path\n",
        "\n",
        "\n",
        "    # print(para)\n",
        "    filename=os.path.join(save_path,c+'.txt')\n",
        "    \n",
        "\n",
        "    f=open( filename,'w')\n",
        "\n",
        "    \n",
        "\n",
        "    for link in div.text.replace(\"\\n\",\"\").replace(\"\\xa0\",\"\").replace(\"Show more\",\"\").strip():\n",
        "      \n",
        "      soup_link=str(link)\n",
        "\n",
        "      # print(soup_link)\n",
        "\n",
        "      f.write(soup_link)\n",
        "\n",
        "\n",
        "    f.flush()\n",
        "\n",
        "    f.close\n",
        "\n",
        "    div=soup.find(\"div\", attrs={'field field--field-paragraph-sidebar'})\n",
        "\n",
        "    div=div.text.replace(\"\\n\",\" \").replace(\"          \",\".\").replace(\"         \",\".\").strip()\n",
        "\n",
        "    # print(div)\n",
        "\n",
        "\n",
        "    matched_lines = [line for line in div.split('.') if \"food insecure\" in line]\n",
        "\n",
        "    # print(matched_lines)\n",
        "\n",
        "    A=matched_lines\n",
        "\n",
        "    matched_lines = [line for line in div.split('.') if \"poverty line\" in line]\n",
        "\n",
        "\n",
        "    B=matched_lines\n",
        "\n",
        "\n",
        "\n",
        "    # print(matched_lines)\n",
        "\n",
        "\n",
        "    div=soup.find_all(\"div\", attrs={'class': 'stat--item tl-lg tc'})\n",
        "\n",
        "    \n",
        "    # print(div[0].text.replace(\"\\n\",\" \").replace(\"\\xa0\",\"\").replace(\"Show more\",\"\").strip())\n",
        "\n",
        "    \n",
        "\n",
        "    for i in range(0,3,1):\n",
        "\n",
        "      if i==1:\n",
        "\n",
        "        D=div[i].text.replace(\"\\n\",\" \").replace(\"\\xa0\",\"\").replace(\"Show more\",\"\").strip()\n",
        "\n",
        "        # print(A)\n",
        "\n",
        "      elif i==2:\n",
        "\n",
        "        E=div[i].text.replace(\"\\n\",\" \").replace(\"\\xa0\",\"\").replace(\"Show more\",\"\").strip()\n",
        "\n",
        "        # print(B)\n",
        "\n",
        "      else :\n",
        "\n",
        "\n",
        "        C=div[i].text.replace(\"\\n\",\" \").replace(\"\\xa0\",\"\").replace(\"Show more\",\"\").strip()\n",
        "\n",
        "        # print(C)\n",
        "\n",
        "\n",
        "      \n",
        "\n",
        "\n",
        "    header=soup.find(\"div\", attrs={'class': 'wfp-u-1 wfp-u-lg-2-5'}).text.replace(\"\\n\",\"\")\n",
        "    \n",
        "    card=soup.find(\"div\", attrs={'class': 'card card--simple'})\n",
        "\n",
        "    links=card.find(\"a\")\n",
        "\n",
        "    link=links[\"href\"]\n",
        "\n",
        "    # print(link)\n",
        "    \n",
        "    # linked.append(link)\n",
        "\n",
        "    url2=link\n",
        "\n",
        "    page=requests.get(url2)\n",
        "\n",
        "\n",
        "    soup2=BeautifulSoup(page.content,'html.parser')\n",
        "\n",
        "    opp=soup2.find(\"div\", attrs={'class': 'wfp-u-1 wfp-u-md-17-24 wfp-box'}).text.replace(\"\\n\",\"\")\n",
        "\n",
        "    save_path = '/content/drive/MyDrive/Website'\n",
        "\n",
        "    Directory2=save_path\n",
        "\n",
        "\n",
        "    # print(para)\n",
        "    filename=os.path.join(save_path,c+'_StrategicPlan.txt')\n",
        "    \n",
        "    \n",
        "    f=open( filename,'w')\n",
        "\n",
        "    \n",
        "\n",
        "    for link in opp:\n",
        "      \n",
        "      soup_link=str(link)\n",
        "\n",
        "      # print(soup_link)\n",
        "\n",
        "      f.write(soup_link)\n",
        "\n",
        "\n",
        "    f.flush()\n",
        "\n",
        "    f.close\n",
        "\n",
        "    print(\"{} txt file dowloaded\".format(c))\n",
        "    \n",
        "\n",
        "    # url2=\"{link}\"\n",
        "\n",
        "    # page2=requests.get(url2)\n",
        "\n",
        "    # soup2=BeautifulSoup(page2.content,'html.parser')\n",
        "    # div=soup2.find(\"div\", attrs={'class': 'field-rich-text--container mv4 mv5-lg'})\n",
        "\n",
        "    # print(div)\n",
        "\n",
        "    # print(links[\"href\"])\n",
        "\n",
        "  except:\n",
        "  \n",
        "    para=''\n",
        "    header=''\n",
        "  \n",
        "\n",
        "  # print(para,end='\\n')\n",
        "  \n",
        "  data.insert(j,[l[j],Directory1,A,B,C,url,link,para,header,opp])\n",
        "\n",
        "\n",
        "  print(\"Data collected of Country : {}\".format(l[j]))\n",
        "\n",
        "\n",
        "\n",
        "df=pd.DataFrame(data, columns=[\"Country\",\"Directory\",\"A\",\"B\",\"C\",\"URL\",\"Link\",\"Summary\",\"Header\",\"Strategic Plan\"])\n",
        "\n",
        "print(\"DataFrame Created\")\n",
        "\n",
        "df.to_csv(\"a.csv\")\n",
        "\n",
        "print(\"CSV FILE IS SAVED \")\n",
        "\n",
        "df.head()"
      ],
      "execution_count": 130,
      "outputs": [
        {
          "output_type": "stream",
          "text": [
            "Algeria txt file dowloaded\n",
            "Data collected of Country : Algeria\n",
            "Angola txt file dowloaded\n",
            "Data collected of Country : Angola\n",
            "Armenia txt file dowloaded\n",
            "Data collected of Country : Armenia\n",
            "Bangladesh txt file dowloaded\n",
            "Data collected of Country : Bangladesh\n",
            "Benin txt file dowloaded\n",
            "Data collected of Country : Benin\n",
            "Bhutan txt file dowloaded\n",
            "Data collected of Country : Bhutan\n",
            "Data collected of Country : Bolivia (Plurinational State of)\n",
            "Data collected of Country : Burkina Faso\n",
            "Burundi txt file dowloaded\n",
            "Data collected of Country : Burundi\n",
            "Cambodia txt file dowloaded\n",
            "Data collected of Country : Cambodia\n",
            "Cameroon txt file dowloaded\n",
            "Data collected of Country : Cameroon\n",
            "Data collected of Country : Central African Republic\n",
            "Chad txt file dowloaded\n",
            "Data collected of Country : Chad\n",
            "China txt file dowloaded\n",
            "Data collected of Country : China\n",
            "Colombia txt file dowloaded\n",
            "Data collected of Country : Colombia\n",
            "Congo txt file dowloaded\n",
            "Data collected of Country : Congo\n",
            "Data collected of Country : Côte d'Ivoire\n",
            "Cuba txt file dowloaded\n",
            "Data collected of Country : Cuba\n",
            "Data collected of Country : Democratic People's Republic of Korea\n",
            "Data collected of Country : Democratic Republic of the Congo\n",
            "Djibouti txt file dowloaded\n",
            "Data collected of Country : Djibouti\n",
            "Data collected of Country : Dominican Republic\n",
            "Ecuador txt file dowloaded\n",
            "Data collected of Country : Ecuador\n",
            "Egypt txt file dowloaded\n",
            "Data collected of Country : Egypt\n",
            "Data collected of Country : El Salvador\n",
            "Eswatini txt file dowloaded\n",
            "Data collected of Country : Eswatini\n",
            "Ethiopia txt file dowloaded\n",
            "Data collected of Country : Ethiopia\n",
            "Gambia txt file dowloaded\n",
            "Data collected of Country : Gambia\n",
            "Ghana txt file dowloaded\n",
            "Data collected of Country : Ghana\n",
            "Guatemala txt file dowloaded\n",
            "Data collected of Country : Guatemala\n",
            "Guinea txt file dowloaded\n",
            "Data collected of Country : Guinea\n",
            "Guinea-Bissau txt file dowloaded\n",
            "Data collected of Country : Guinea-Bissau\n",
            "Haiti txt file dowloaded\n",
            "Data collected of Country : Haiti\n",
            "Honduras txt file dowloaded\n",
            "Data collected of Country : Honduras\n",
            "India txt file dowloaded\n",
            "Data collected of Country : India\n",
            "Indonesia txt file dowloaded\n",
            "Data collected of Country : Indonesia\n",
            "Data collected of Country : Iran (Islamic Republic of)\n",
            "Iraq txt file dowloaded\n",
            "Data collected of Country : Iraq\n",
            "Jordan txt file dowloaded\n",
            "Data collected of Country : Jordan\n",
            "Kenya txt file dowloaded\n",
            "Data collected of Country : Kenya\n",
            "Kyrgyzstan txt file dowloaded\n",
            "Data collected of Country : Kyrgyzstan\n",
            "Data collected of Country : Lao People's Democratic Republic\n",
            "Lebanon txt file dowloaded\n",
            "Data collected of Country : Lebanon\n",
            "Lesotho txt file dowloaded\n",
            "Data collected of Country : Lesotho\n",
            "Liberia txt file dowloaded\n",
            "Data collected of Country : Liberia\n",
            "Libya txt file dowloaded\n",
            "Data collected of Country : Libya\n",
            "Madagascar txt file dowloaded\n",
            "Data collected of Country : Madagascar\n",
            "Malawi txt file dowloaded\n",
            "Data collected of Country : Malawi\n",
            "Mali txt file dowloaded\n",
            "Data collected of Country : Mali\n",
            "Mauritania txt file dowloaded\n",
            "Data collected of Country : Mauritania\n",
            "Mozambique txt file dowloaded\n",
            "Data collected of Country : Mozambique\n",
            "Myanmar txt file dowloaded\n",
            "Data collected of Country : Myanmar\n",
            "Namibia txt file dowloaded\n",
            "Data collected of Country : Namibia\n",
            "Nepal txt file dowloaded\n",
            "Data collected of Country : Nepal\n",
            "Nicaragua txt file dowloaded\n",
            "Data collected of Country : Nicaragua\n",
            "Niger txt file dowloaded\n",
            "Data collected of Country : Niger\n",
            "Nigeria txt file dowloaded\n",
            "Data collected of Country : Nigeria\n",
            "Pakistan txt file dowloaded\n",
            "Data collected of Country : Pakistan\n",
            "Palestine txt file dowloaded\n",
            "Data collected of Country : Palestine\n",
            "Peru txt file dowloaded\n",
            "Data collected of Country : Peru\n",
            "Philippines txt file dowloaded\n",
            "Data collected of Country : Philippines\n",
            "Rwanda txt file dowloaded\n",
            "Data collected of Country : Rwanda\n",
            "Data collected of Country : Sao Tome and Principe\n",
            "Senegal txt file dowloaded\n",
            "Data collected of Country : Senegal\n",
            "Data collected of Country : Sierra Leone\n",
            "Somalia txt file dowloaded\n",
            "Data collected of Country : Somalia\n",
            "Data collected of Country : South Sudan\n",
            "Data collected of Country : Sri Lanka\n",
            "Sudan txt file dowloaded\n",
            "Data collected of Country : Sudan\n",
            "Data collected of Country : Syrian Arab Republic\n",
            "Tajikistan txt file dowloaded\n",
            "Data collected of Country : Tajikistan\n",
            "Tanzania txt file dowloaded\n",
            "Data collected of Country : Tanzania\n",
            "Data collected of Country : The Caribbean\n",
            "Data collected of Country : The Pacific\n",
            "Timor-Leste txt file dowloaded\n",
            "Data collected of Country : Timor-Leste\n",
            "Togo txt file dowloaded\n",
            "Data collected of Country : Togo\n",
            "Tunisia txt file dowloaded\n",
            "Data collected of Country : Tunisia\n",
            "Turkey txt file dowloaded\n",
            "Data collected of Country : Turkey\n",
            "Uganda txt file dowloaded\n",
            "Data collected of Country : Uganda\n",
            "Yemen txt file dowloaded\n",
            "Data collected of Country : Yemen\n",
            "Zambia txt file dowloaded\n",
            "Data collected of Country : Zambia\n",
            "Zimbabwe txt file dowloaded\n",
            "Data collected of Country : Zimbabwe\n",
            "DataFrame Created\n",
            "CSV FILE IS SAVED \n"
          ],
          "name": "stdout"
        },
        {
          "output_type": "execute_result",
          "data": {
            "text/html": [
              "<div>\n",
              "<style scoped>\n",
              "    .dataframe tbody tr th:only-of-type {\n",
              "        vertical-align: middle;\n",
              "    }\n",
              "\n",
              "    .dataframe tbody tr th {\n",
              "        vertical-align: top;\n",
              "    }\n",
              "\n",
              "    .dataframe thead th {\n",
              "        text-align: right;\n",
              "    }\n",
              "</style>\n",
              "<table border=\"1\" class=\"dataframe\">\n",
              "  <thead>\n",
              "    <tr style=\"text-align: right;\">\n",
              "      <th></th>\n",
              "      <th>Country</th>\n",
              "      <th>Directory</th>\n",
              "      <th>A</th>\n",
              "      <th>B</th>\n",
              "      <th>C</th>\n",
              "      <th>URL</th>\n",
              "      <th>Link</th>\n",
              "      <th>Summary</th>\n",
              "      <th>Header</th>\n",
              "      <th>Strategic Plan</th>\n",
              "    </tr>\n",
              "  </thead>\n",
              "  <tbody>\n",
              "    <tr>\n",
              "      <th>0</th>\n",
              "      <td>Algeria</td>\n",
              "      <td>/content/drive/MyDrive/Website</td>\n",
              "      <td>[88% of Sahrawi refugees are food insecure or ...</td>\n",
              "      <td>[]</td>\n",
              "      <td>5  camps host refugees from Western Sahara</td>\n",
              "      <td>https://www.wfp.org/countries/Algeria</td>\n",
              "      <td></td>\n",
              "      <td>Algeria has hosted refugees from Western Sahar...</td>\n",
              "      <td>5 camps host refugees from Western Sahara88%of...</td>\n",
              "      <td>ICSP approved at EB.A/2019Algeria has hosted S...</td>\n",
              "    </tr>\n",
              "    <tr>\n",
              "      <th>1</th>\n",
              "      <td>Angola</td>\n",
              "      <td>/content/drive/MyDrive/Website</td>\n",
              "      <td>[]</td>\n",
              "      <td>[]</td>\n",
              "      <td>36,000  people have crossed the border into An...</td>\n",
              "      <td>https://www.wfp.org/countries/Angola</td>\n",
              "      <td>.</td>\n",
              "      <td>Angola is a resource rich country that has mad...</td>\n",
              "      <td>36,000 people have crossed the border into Ang...</td>\n",
              "      <td>ICSP approved by the EB November 2019 Revision...</td>\n",
              "    </tr>\n",
              "    <tr>\n",
              "      <th>2</th>\n",
              "      <td>Armenia</td>\n",
              "      <td>/content/drive/MyDrive/Website</td>\n",
              "      <td>[3% of people are food insecure]</td>\n",
              "      <td>[]</td>\n",
              "      <td>3 million population</td>\n",
              "      <td>https://www.wfp.org/countries/Armenia</td>\n",
              "      <td></td>\n",
              "      <td>Armenia is an upper-middle income, landlocked,...</td>\n",
              "      <td>3 millionpopulation26.4%of people live in pove...</td>\n",
              "      <td>CSP approved at EB.A/2019Revision 01 approved ...</td>\n",
              "    </tr>\n",
              "    <tr>\n",
              "      <th>3</th>\n",
              "      <td>Bangladesh</td>\n",
              "      <td>/content/drive/MyDrive/Website</td>\n",
              "      <td>[]</td>\n",
              "      <td>[]</td>\n",
              "      <td>160 million population</td>\n",
              "      <td>https://www.wfp.org/countries/Bangladesh</td>\n",
              "      <td></td>\n",
              "      <td>The most densely populated country in the worl...</td>\n",
              "      <td>160 millionpopulation31.5% of peoplelive in po...</td>\n",
              "      <td>CSP approved at EB.1/2017. Revision 01 approve...</td>\n",
              "    </tr>\n",
              "    <tr>\n",
              "      <th>4</th>\n",
              "      <td>Benin</td>\n",
              "      <td>/content/drive/MyDrive/Website</td>\n",
              "      <td>[6% of households are food insecure]</td>\n",
              "      <td>[]</td>\n",
              "      <td>11.2 million population</td>\n",
              "      <td>https://www.wfp.org/countries/Benin</td>\n",
              "      <td></td>\n",
              "      <td>The Republic of Benin is a low-income, food–de...</td>\n",
              "      <td>11.2 millionpopulation9.6%of households are fo...</td>\n",
              "      <td>CSP approved at EB.A/2019Revision 01 approved ...</td>\n",
              "    </tr>\n",
              "  </tbody>\n",
              "</table>\n",
              "</div>"
            ],
            "text/plain": [
              "      Country  ...                                     Strategic Plan\n",
              "0     Algeria  ...  ICSP approved at EB.A/2019Algeria has hosted S...\n",
              "1      Angola  ...  ICSP approved by the EB November 2019 Revision...\n",
              "2     Armenia  ...  CSP approved at EB.A/2019Revision 01 approved ...\n",
              "3  Bangladesh  ...  CSP approved at EB.1/2017. Revision 01 approve...\n",
              "4       Benin  ...  CSP approved at EB.A/2019Revision 01 approved ...\n",
              "\n",
              "[5 rows x 10 columns]"
            ]
          },
          "metadata": {
            "tags": []
          },
          "execution_count": 130
        }
      ]
    },
    {
      "cell_type": "code",
      "metadata": {
        "id": "aTll-BPQMdhx"
      },
      "source": [
        "new_df=df.drop(['URL', 'Link','Summary','Header','Strategic Plan','Directory','Country'], axis = 1)\n",
        "\n"
      ],
      "execution_count": 139,
      "outputs": []
    },
    {
      "cell_type": "code",
      "metadata": {
        "id": "zj9rndbVUpPm",
        "colab": {
          "base_uri": "https://localhost:8080/",
          "height": 419
        },
        "outputId": "b0762e93-5c32-40b2-cd61-2f96e45cac85"
      },
      "source": [
        "new_df"
      ],
      "execution_count": 140,
      "outputs": [
        {
          "output_type": "execute_result",
          "data": {
            "text/html": [
              "<div>\n",
              "<style scoped>\n",
              "    .dataframe tbody tr th:only-of-type {\n",
              "        vertical-align: middle;\n",
              "    }\n",
              "\n",
              "    .dataframe tbody tr th {\n",
              "        vertical-align: top;\n",
              "    }\n",
              "\n",
              "    .dataframe thead th {\n",
              "        text-align: right;\n",
              "    }\n",
              "</style>\n",
              "<table border=\"1\" class=\"dataframe\">\n",
              "  <thead>\n",
              "    <tr style=\"text-align: right;\">\n",
              "      <th></th>\n",
              "      <th>A</th>\n",
              "      <th>B</th>\n",
              "      <th>C</th>\n",
              "    </tr>\n",
              "  </thead>\n",
              "  <tbody>\n",
              "    <tr>\n",
              "      <th>0</th>\n",
              "      <td>[88% of Sahrawi refugees are food insecure or ...</td>\n",
              "      <td>[]</td>\n",
              "      <td>5  camps host refugees from Western Sahara</td>\n",
              "    </tr>\n",
              "    <tr>\n",
              "      <th>1</th>\n",
              "      <td>[]</td>\n",
              "      <td>[]</td>\n",
              "      <td>36,000  people have crossed the border into An...</td>\n",
              "    </tr>\n",
              "    <tr>\n",
              "      <th>2</th>\n",
              "      <td>[3% of people are food insecure]</td>\n",
              "      <td>[]</td>\n",
              "      <td>3 million population</td>\n",
              "    </tr>\n",
              "    <tr>\n",
              "      <th>3</th>\n",
              "      <td>[]</td>\n",
              "      <td>[]</td>\n",
              "      <td>160 million population</td>\n",
              "    </tr>\n",
              "    <tr>\n",
              "      <th>4</th>\n",
              "      <td>[6% of households are food insecure]</td>\n",
              "      <td>[]</td>\n",
              "      <td>11.2 million population</td>\n",
              "    </tr>\n",
              "    <tr>\n",
              "      <th>...</th>\n",
              "      <td>...</td>\n",
              "      <td>...</td>\n",
              "      <td>...</td>\n",
              "    </tr>\n",
              "    <tr>\n",
              "      <th>77</th>\n",
              "      <td>[]</td>\n",
              "      <td>[]</td>\n",
              "      <td>83 million  population</td>\n",
              "    </tr>\n",
              "    <tr>\n",
              "      <th>78</th>\n",
              "      <td>[]</td>\n",
              "      <td>[7% of people live below the poverty line]</td>\n",
              "      <td>39 million population</td>\n",
              "    </tr>\n",
              "    <tr>\n",
              "      <th>79</th>\n",
              "      <td>[2 million people are food insecure]</td>\n",
              "      <td>[]</td>\n",
              "      <td>20.1 million people face hunger in the absence...</td>\n",
              "    </tr>\n",
              "    <tr>\n",
              "      <th>80</th>\n",
              "      <td>[]</td>\n",
              "      <td>[]</td>\n",
              "      <td>17.4 million population</td>\n",
              "    </tr>\n",
              "    <tr>\n",
              "      <th>81</th>\n",
              "      <td>[]</td>\n",
              "      <td>[63% of people live below the poverty line]</td>\n",
              "      <td>15.6 million population</td>\n",
              "    </tr>\n",
              "  </tbody>\n",
              "</table>\n",
              "<p>82 rows × 3 columns</p>\n",
              "</div>"
            ],
            "text/plain": [
              "                                                    A  ...                                                  C\n",
              "0   [88% of Sahrawi refugees are food insecure or ...  ...         5  camps host refugees from Western Sahara\n",
              "1                                                  []  ...  36,000  people have crossed the border into An...\n",
              "2                    [3% of people are food insecure]  ...                               3 million population\n",
              "3                                                  []  ...                             160 million population\n",
              "4                [6% of households are food insecure]  ...                            11.2 million population\n",
              "..                                                ...  ...                                                ...\n",
              "77                                                 []  ...                             83 million  population\n",
              "78                                                 []  ...                              39 million population\n",
              "79               [2 million people are food insecure]  ...  20.1 million people face hunger in the absence...\n",
              "80                                                 []  ...                            17.4 million population\n",
              "81                                                 []  ...                            15.6 million population\n",
              "\n",
              "[82 rows x 3 columns]"
            ]
          },
          "metadata": {
            "tags": []
          },
          "execution_count": 140
        }
      ]
    },
    {
      "cell_type": "code",
      "metadata": {
        "id": "hBhqoxlXn9Ra",
        "colab": {
          "base_uri": "https://localhost:8080/",
          "height": 419
        },
        "outputId": "b42d4f90-74c0-4554-a891-f3ff84b6657c"
      },
      "source": [
        "new_df.to_csv(\"b.csv\")\n",
        "\n",
        "new_df=new_df.drop(['A', 'B'], axis = 1)\n",
        "\n",
        "new_df"
      ],
      "execution_count": 141,
      "outputs": [
        {
          "output_type": "execute_result",
          "data": {
            "text/html": [
              "<div>\n",
              "<style scoped>\n",
              "    .dataframe tbody tr th:only-of-type {\n",
              "        vertical-align: middle;\n",
              "    }\n",
              "\n",
              "    .dataframe tbody tr th {\n",
              "        vertical-align: top;\n",
              "    }\n",
              "\n",
              "    .dataframe thead th {\n",
              "        text-align: right;\n",
              "    }\n",
              "</style>\n",
              "<table border=\"1\" class=\"dataframe\">\n",
              "  <thead>\n",
              "    <tr style=\"text-align: right;\">\n",
              "      <th></th>\n",
              "      <th>C</th>\n",
              "    </tr>\n",
              "  </thead>\n",
              "  <tbody>\n",
              "    <tr>\n",
              "      <th>0</th>\n",
              "      <td>5  camps host refugees from Western Sahara</td>\n",
              "    </tr>\n",
              "    <tr>\n",
              "      <th>1</th>\n",
              "      <td>36,000  people have crossed the border into An...</td>\n",
              "    </tr>\n",
              "    <tr>\n",
              "      <th>2</th>\n",
              "      <td>3 million population</td>\n",
              "    </tr>\n",
              "    <tr>\n",
              "      <th>3</th>\n",
              "      <td>160 million population</td>\n",
              "    </tr>\n",
              "    <tr>\n",
              "      <th>4</th>\n",
              "      <td>11.2 million population</td>\n",
              "    </tr>\n",
              "    <tr>\n",
              "      <th>...</th>\n",
              "      <td>...</td>\n",
              "    </tr>\n",
              "    <tr>\n",
              "      <th>77</th>\n",
              "      <td>83 million  population</td>\n",
              "    </tr>\n",
              "    <tr>\n",
              "      <th>78</th>\n",
              "      <td>39 million population</td>\n",
              "    </tr>\n",
              "    <tr>\n",
              "      <th>79</th>\n",
              "      <td>20.1 million people face hunger in the absence...</td>\n",
              "    </tr>\n",
              "    <tr>\n",
              "      <th>80</th>\n",
              "      <td>17.4 million population</td>\n",
              "    </tr>\n",
              "    <tr>\n",
              "      <th>81</th>\n",
              "      <td>15.6 million population</td>\n",
              "    </tr>\n",
              "  </tbody>\n",
              "</table>\n",
              "<p>82 rows × 1 columns</p>\n",
              "</div>"
            ],
            "text/plain": [
              "                                                    C\n",
              "0          5  camps host refugees from Western Sahara\n",
              "1   36,000  people have crossed the border into An...\n",
              "2                                3 million population\n",
              "3                              160 million population\n",
              "4                             11.2 million population\n",
              "..                                                ...\n",
              "77                             83 million  population\n",
              "78                              39 million population\n",
              "79  20.1 million people face hunger in the absence...\n",
              "80                            17.4 million population\n",
              "81                            15.6 million population\n",
              "\n",
              "[82 rows x 1 columns]"
            ]
          },
          "metadata": {
            "tags": []
          },
          "execution_count": 141
        }
      ]
    },
    {
      "cell_type": "code",
      "metadata": {
        "id": "YTPzTsqlRu8t",
        "colab": {
          "base_uri": "https://localhost:8080/",
          "height": 419
        },
        "outputId": "dfa832f1-7de0-44a7-a2f3-ff008e6f5417"
      },
      "source": [
        "new_df=new_df.replace('[A-Za-z]','',regex=True)\n",
        "\n",
        "\n",
        "\n",
        "new_df"
      ],
      "execution_count": 142,
      "outputs": [
        {
          "output_type": "execute_result",
          "data": {
            "text/html": [
              "<div>\n",
              "<style scoped>\n",
              "    .dataframe tbody tr th:only-of-type {\n",
              "        vertical-align: middle;\n",
              "    }\n",
              "\n",
              "    .dataframe tbody tr th {\n",
              "        vertical-align: top;\n",
              "    }\n",
              "\n",
              "    .dataframe thead th {\n",
              "        text-align: right;\n",
              "    }\n",
              "</style>\n",
              "<table border=\"1\" class=\"dataframe\">\n",
              "  <thead>\n",
              "    <tr style=\"text-align: right;\">\n",
              "      <th></th>\n",
              "      <th>C</th>\n",
              "    </tr>\n",
              "  </thead>\n",
              "  <tbody>\n",
              "    <tr>\n",
              "      <th>0</th>\n",
              "      <td>5</td>\n",
              "    </tr>\n",
              "    <tr>\n",
              "      <th>1</th>\n",
              "      <td>36,000                  2017</td>\n",
              "    </tr>\n",
              "    <tr>\n",
              "      <th>2</th>\n",
              "      <td>3</td>\n",
              "    </tr>\n",
              "    <tr>\n",
              "      <th>3</th>\n",
              "      <td>160</td>\n",
              "    </tr>\n",
              "    <tr>\n",
              "      <th>4</th>\n",
              "      <td>11.2</td>\n",
              "    </tr>\n",
              "    <tr>\n",
              "      <th>...</th>\n",
              "      <td>...</td>\n",
              "    </tr>\n",
              "    <tr>\n",
              "      <th>77</th>\n",
              "      <td>83</td>\n",
              "    </tr>\n",
              "    <tr>\n",
              "      <th>78</th>\n",
              "      <td>39</td>\n",
              "    </tr>\n",
              "    <tr>\n",
              "      <th>79</th>\n",
              "      <td>20.1</td>\n",
              "    </tr>\n",
              "    <tr>\n",
              "      <th>80</th>\n",
              "      <td>17.4</td>\n",
              "    </tr>\n",
              "    <tr>\n",
              "      <th>81</th>\n",
              "      <td>15.6</td>\n",
              "    </tr>\n",
              "  </tbody>\n",
              "</table>\n",
              "<p>82 rows × 1 columns</p>\n",
              "</div>"
            ],
            "text/plain": [
              "                               C\n",
              "0                       5       \n",
              "1   36,000                  2017\n",
              "2                            3  \n",
              "3                          160  \n",
              "4                         11.2  \n",
              "..                           ...\n",
              "77                         83   \n",
              "78                          39  \n",
              "79                20.1          \n",
              "80                        17.4  \n",
              "81                        15.6  \n",
              "\n",
              "[82 rows x 1 columns]"
            ]
          },
          "metadata": {
            "tags": []
          },
          "execution_count": 142
        }
      ]
    },
    {
      "cell_type": "code",
      "metadata": {
        "colab": {
          "base_uri": "https://localhost:8080/"
        },
        "id": "U3BqeTyzpMc7",
        "outputId": "9ca6e642-02b1-41b4-fd2f-0cc181eb8d33"
      },
      "source": [
        "new_df.info()"
      ],
      "execution_count": 143,
      "outputs": [
        {
          "output_type": "stream",
          "text": [
            "<class 'pandas.core.frame.DataFrame'>\n",
            "RangeIndex: 82 entries, 0 to 81\n",
            "Data columns (total 1 columns):\n",
            " #   Column  Non-Null Count  Dtype \n",
            "---  ------  --------------  ----- \n",
            " 0   C       82 non-null     object\n",
            "dtypes: object(1)\n",
            "memory usage: 784.0+ bytes\n"
          ],
          "name": "stdout"
        }
      ]
    },
    {
      "cell_type": "code",
      "metadata": {
        "id": "lcey61eFSSOV",
        "colab": {
          "base_uri": "https://localhost:8080/",
          "height": 289
        },
        "outputId": "6c7befbb-02ca-4a8e-a03a-aaf78c8a1fc4"
      },
      "source": [
        "df.head()"
      ],
      "execution_count": 144,
      "outputs": [
        {
          "output_type": "execute_result",
          "data": {
            "text/html": [
              "<div>\n",
              "<style scoped>\n",
              "    .dataframe tbody tr th:only-of-type {\n",
              "        vertical-align: middle;\n",
              "    }\n",
              "\n",
              "    .dataframe tbody tr th {\n",
              "        vertical-align: top;\n",
              "    }\n",
              "\n",
              "    .dataframe thead th {\n",
              "        text-align: right;\n",
              "    }\n",
              "</style>\n",
              "<table border=\"1\" class=\"dataframe\">\n",
              "  <thead>\n",
              "    <tr style=\"text-align: right;\">\n",
              "      <th></th>\n",
              "      <th>Country</th>\n",
              "      <th>Directory</th>\n",
              "      <th>A</th>\n",
              "      <th>B</th>\n",
              "      <th>C</th>\n",
              "      <th>URL</th>\n",
              "      <th>Link</th>\n",
              "      <th>Summary</th>\n",
              "      <th>Header</th>\n",
              "      <th>Strategic Plan</th>\n",
              "    </tr>\n",
              "  </thead>\n",
              "  <tbody>\n",
              "    <tr>\n",
              "      <th>0</th>\n",
              "      <td>Algeria</td>\n",
              "      <td>/content/drive/MyDrive/Website</td>\n",
              "      <td>[88% of Sahrawi refugees are food insecure or ...</td>\n",
              "      <td>[]</td>\n",
              "      <td>5  camps host refugees from Western Sahara</td>\n",
              "      <td>https://www.wfp.org/countries/Algeria</td>\n",
              "      <td></td>\n",
              "      <td>Algeria has hosted refugees from Western Sahar...</td>\n",
              "      <td>5 camps host refugees from Western Sahara88%of...</td>\n",
              "      <td>ICSP approved at EB.A/2019Algeria has hosted S...</td>\n",
              "    </tr>\n",
              "    <tr>\n",
              "      <th>1</th>\n",
              "      <td>Angola</td>\n",
              "      <td>/content/drive/MyDrive/Website</td>\n",
              "      <td>[]</td>\n",
              "      <td>[]</td>\n",
              "      <td>36,000  people have crossed the border into An...</td>\n",
              "      <td>https://www.wfp.org/countries/Angola</td>\n",
              "      <td>.</td>\n",
              "      <td>Angola is a resource rich country that has mad...</td>\n",
              "      <td>36,000 people have crossed the border into Ang...</td>\n",
              "      <td>ICSP approved by the EB November 2019 Revision...</td>\n",
              "    </tr>\n",
              "    <tr>\n",
              "      <th>2</th>\n",
              "      <td>Armenia</td>\n",
              "      <td>/content/drive/MyDrive/Website</td>\n",
              "      <td>[3% of people are food insecure]</td>\n",
              "      <td>[]</td>\n",
              "      <td>3 million population</td>\n",
              "      <td>https://www.wfp.org/countries/Armenia</td>\n",
              "      <td></td>\n",
              "      <td>Armenia is an upper-middle income, landlocked,...</td>\n",
              "      <td>3 millionpopulation26.4%of people live in pove...</td>\n",
              "      <td>CSP approved at EB.A/2019Revision 01 approved ...</td>\n",
              "    </tr>\n",
              "    <tr>\n",
              "      <th>3</th>\n",
              "      <td>Bangladesh</td>\n",
              "      <td>/content/drive/MyDrive/Website</td>\n",
              "      <td>[]</td>\n",
              "      <td>[]</td>\n",
              "      <td>160 million population</td>\n",
              "      <td>https://www.wfp.org/countries/Bangladesh</td>\n",
              "      <td></td>\n",
              "      <td>The most densely populated country in the worl...</td>\n",
              "      <td>160 millionpopulation31.5% of peoplelive in po...</td>\n",
              "      <td>CSP approved at EB.1/2017. Revision 01 approve...</td>\n",
              "    </tr>\n",
              "    <tr>\n",
              "      <th>4</th>\n",
              "      <td>Benin</td>\n",
              "      <td>/content/drive/MyDrive/Website</td>\n",
              "      <td>[6% of households are food insecure]</td>\n",
              "      <td>[]</td>\n",
              "      <td>11.2 million population</td>\n",
              "      <td>https://www.wfp.org/countries/Benin</td>\n",
              "      <td></td>\n",
              "      <td>The Republic of Benin is a low-income, food–de...</td>\n",
              "      <td>11.2 millionpopulation9.6%of households are fo...</td>\n",
              "      <td>CSP approved at EB.A/2019Revision 01 approved ...</td>\n",
              "    </tr>\n",
              "  </tbody>\n",
              "</table>\n",
              "</div>"
            ],
            "text/plain": [
              "      Country  ...                                     Strategic Plan\n",
              "0     Algeria  ...  ICSP approved at EB.A/2019Algeria has hosted S...\n",
              "1      Angola  ...  ICSP approved by the EB November 2019 Revision...\n",
              "2     Armenia  ...  CSP approved at EB.A/2019Revision 01 approved ...\n",
              "3  Bangladesh  ...  CSP approved at EB.1/2017. Revision 01 approve...\n",
              "4       Benin  ...  CSP approved at EB.A/2019Revision 01 approved ...\n",
              "\n",
              "[5 rows x 10 columns]"
            ]
          },
          "metadata": {
            "tags": []
          },
          "execution_count": 144
        }
      ]
    },
    {
      "cell_type": "code",
      "metadata": {
        "id": "N6VKXRIoZAv9",
        "colab": {
          "base_uri": "https://localhost:8080/",
          "height": 419
        },
        "outputId": "60187f51-6c7c-424a-c0ba-625c20c29ac8"
      },
      "source": [
        "df=df.drop(['A','B','URL','Link','Summary','Header','Strategic Plan','C'], axis = 1)\n",
        "\n",
        "df\n"
      ],
      "execution_count": 145,
      "outputs": [
        {
          "output_type": "execute_result",
          "data": {
            "text/html": [
              "<div>\n",
              "<style scoped>\n",
              "    .dataframe tbody tr th:only-of-type {\n",
              "        vertical-align: middle;\n",
              "    }\n",
              "\n",
              "    .dataframe tbody tr th {\n",
              "        vertical-align: top;\n",
              "    }\n",
              "\n",
              "    .dataframe thead th {\n",
              "        text-align: right;\n",
              "    }\n",
              "</style>\n",
              "<table border=\"1\" class=\"dataframe\">\n",
              "  <thead>\n",
              "    <tr style=\"text-align: right;\">\n",
              "      <th></th>\n",
              "      <th>Country</th>\n",
              "      <th>Directory</th>\n",
              "    </tr>\n",
              "  </thead>\n",
              "  <tbody>\n",
              "    <tr>\n",
              "      <th>0</th>\n",
              "      <td>Algeria</td>\n",
              "      <td>/content/drive/MyDrive/Website</td>\n",
              "    </tr>\n",
              "    <tr>\n",
              "      <th>1</th>\n",
              "      <td>Angola</td>\n",
              "      <td>/content/drive/MyDrive/Website</td>\n",
              "    </tr>\n",
              "    <tr>\n",
              "      <th>2</th>\n",
              "      <td>Armenia</td>\n",
              "      <td>/content/drive/MyDrive/Website</td>\n",
              "    </tr>\n",
              "    <tr>\n",
              "      <th>3</th>\n",
              "      <td>Bangladesh</td>\n",
              "      <td>/content/drive/MyDrive/Website</td>\n",
              "    </tr>\n",
              "    <tr>\n",
              "      <th>4</th>\n",
              "      <td>Benin</td>\n",
              "      <td>/content/drive/MyDrive/Website</td>\n",
              "    </tr>\n",
              "    <tr>\n",
              "      <th>...</th>\n",
              "      <td>...</td>\n",
              "      <td>...</td>\n",
              "    </tr>\n",
              "    <tr>\n",
              "      <th>77</th>\n",
              "      <td>Turkey</td>\n",
              "      <td>/content/drive/MyDrive/Website</td>\n",
              "    </tr>\n",
              "    <tr>\n",
              "      <th>78</th>\n",
              "      <td>Uganda</td>\n",
              "      <td>/content/drive/MyDrive/Website</td>\n",
              "    </tr>\n",
              "    <tr>\n",
              "      <th>79</th>\n",
              "      <td>Yemen</td>\n",
              "      <td>/content/drive/MyDrive/Website</td>\n",
              "    </tr>\n",
              "    <tr>\n",
              "      <th>80</th>\n",
              "      <td>Zambia</td>\n",
              "      <td>/content/drive/MyDrive/Website</td>\n",
              "    </tr>\n",
              "    <tr>\n",
              "      <th>81</th>\n",
              "      <td>Zimbabwe</td>\n",
              "      <td>/content/drive/MyDrive/Website</td>\n",
              "    </tr>\n",
              "  </tbody>\n",
              "</table>\n",
              "<p>82 rows × 2 columns</p>\n",
              "</div>"
            ],
            "text/plain": [
              "       Country                       Directory\n",
              "0      Algeria  /content/drive/MyDrive/Website\n",
              "1       Angola  /content/drive/MyDrive/Website\n",
              "2      Armenia  /content/drive/MyDrive/Website\n",
              "3   Bangladesh  /content/drive/MyDrive/Website\n",
              "4        Benin  /content/drive/MyDrive/Website\n",
              "..         ...                             ...\n",
              "77      Turkey  /content/drive/MyDrive/Website\n",
              "78      Uganda  /content/drive/MyDrive/Website\n",
              "79       Yemen  /content/drive/MyDrive/Website\n",
              "80      Zambia  /content/drive/MyDrive/Website\n",
              "81    Zimbabwe  /content/drive/MyDrive/Website\n",
              "\n",
              "[82 rows x 2 columns]"
            ]
          },
          "metadata": {
            "tags": []
          },
          "execution_count": 145
        }
      ]
    },
    {
      "cell_type": "code",
      "metadata": {
        "id": "nM0VHtmmbVXq",
        "colab": {
          "base_uri": "https://localhost:8080/",
          "height": 204
        },
        "outputId": "a4b346b5-1b52-4828-e4ce-a07df4e92003"
      },
      "source": [
        "df_col = pd.concat([df,new_df], axis=1)\n",
        "\n",
        "df_col.head()"
      ],
      "execution_count": 146,
      "outputs": [
        {
          "output_type": "execute_result",
          "data": {
            "text/html": [
              "<div>\n",
              "<style scoped>\n",
              "    .dataframe tbody tr th:only-of-type {\n",
              "        vertical-align: middle;\n",
              "    }\n",
              "\n",
              "    .dataframe tbody tr th {\n",
              "        vertical-align: top;\n",
              "    }\n",
              "\n",
              "    .dataframe thead th {\n",
              "        text-align: right;\n",
              "    }\n",
              "</style>\n",
              "<table border=\"1\" class=\"dataframe\">\n",
              "  <thead>\n",
              "    <tr style=\"text-align: right;\">\n",
              "      <th></th>\n",
              "      <th>Country</th>\n",
              "      <th>Directory</th>\n",
              "      <th>C</th>\n",
              "    </tr>\n",
              "  </thead>\n",
              "  <tbody>\n",
              "    <tr>\n",
              "      <th>0</th>\n",
              "      <td>Algeria</td>\n",
              "      <td>/content/drive/MyDrive/Website</td>\n",
              "      <td>5</td>\n",
              "    </tr>\n",
              "    <tr>\n",
              "      <th>1</th>\n",
              "      <td>Angola</td>\n",
              "      <td>/content/drive/MyDrive/Website</td>\n",
              "      <td>36,000                  2017</td>\n",
              "    </tr>\n",
              "    <tr>\n",
              "      <th>2</th>\n",
              "      <td>Armenia</td>\n",
              "      <td>/content/drive/MyDrive/Website</td>\n",
              "      <td>3</td>\n",
              "    </tr>\n",
              "    <tr>\n",
              "      <th>3</th>\n",
              "      <td>Bangladesh</td>\n",
              "      <td>/content/drive/MyDrive/Website</td>\n",
              "      <td>160</td>\n",
              "    </tr>\n",
              "    <tr>\n",
              "      <th>4</th>\n",
              "      <td>Benin</td>\n",
              "      <td>/content/drive/MyDrive/Website</td>\n",
              "      <td>11.2</td>\n",
              "    </tr>\n",
              "  </tbody>\n",
              "</table>\n",
              "</div>"
            ],
            "text/plain": [
              "      Country                       Directory                             C\n",
              "0     Algeria  /content/drive/MyDrive/Website                      5       \n",
              "1      Angola  /content/drive/MyDrive/Website  36,000                  2017\n",
              "2     Armenia  /content/drive/MyDrive/Website                           3  \n",
              "3  Bangladesh  /content/drive/MyDrive/Website                         160  \n",
              "4       Benin  /content/drive/MyDrive/Website                        11.2  "
            ]
          },
          "metadata": {
            "tags": []
          },
          "execution_count": 146
        }
      ]
    },
    {
      "cell_type": "code",
      "metadata": {
        "id": "xjFR0G4gb4SO"
      },
      "source": [
        "df_col =df_col.rename(columns = {'C': 'Population'}, inplace = False)"
      ],
      "execution_count": 147,
      "outputs": []
    },
    {
      "cell_type": "code",
      "metadata": {
        "id": "cKAxS5zwb4ZN",
        "colab": {
          "base_uri": "https://localhost:8080/",
          "height": 514
        },
        "outputId": "d15f27e6-332a-4d20-f086-eaa9da8365d7"
      },
      "source": [
        "df_col.head(15)"
      ],
      "execution_count": 148,
      "outputs": [
        {
          "output_type": "execute_result",
          "data": {
            "text/html": [
              "<div>\n",
              "<style scoped>\n",
              "    .dataframe tbody tr th:only-of-type {\n",
              "        vertical-align: middle;\n",
              "    }\n",
              "\n",
              "    .dataframe tbody tr th {\n",
              "        vertical-align: top;\n",
              "    }\n",
              "\n",
              "    .dataframe thead th {\n",
              "        text-align: right;\n",
              "    }\n",
              "</style>\n",
              "<table border=\"1\" class=\"dataframe\">\n",
              "  <thead>\n",
              "    <tr style=\"text-align: right;\">\n",
              "      <th></th>\n",
              "      <th>Country</th>\n",
              "      <th>Directory</th>\n",
              "      <th>Population</th>\n",
              "    </tr>\n",
              "  </thead>\n",
              "  <tbody>\n",
              "    <tr>\n",
              "      <th>0</th>\n",
              "      <td>Algeria</td>\n",
              "      <td>/content/drive/MyDrive/Website</td>\n",
              "      <td>5</td>\n",
              "    </tr>\n",
              "    <tr>\n",
              "      <th>1</th>\n",
              "      <td>Angola</td>\n",
              "      <td>/content/drive/MyDrive/Website</td>\n",
              "      <td>36,000                  2017</td>\n",
              "    </tr>\n",
              "    <tr>\n",
              "      <th>2</th>\n",
              "      <td>Armenia</td>\n",
              "      <td>/content/drive/MyDrive/Website</td>\n",
              "      <td>3</td>\n",
              "    </tr>\n",
              "    <tr>\n",
              "      <th>3</th>\n",
              "      <td>Bangladesh</td>\n",
              "      <td>/content/drive/MyDrive/Website</td>\n",
              "      <td>160</td>\n",
              "    </tr>\n",
              "    <tr>\n",
              "      <th>4</th>\n",
              "      <td>Benin</td>\n",
              "      <td>/content/drive/MyDrive/Website</td>\n",
              "      <td>11.2</td>\n",
              "    </tr>\n",
              "    <tr>\n",
              "      <th>5</th>\n",
              "      <td>Bhutan</td>\n",
              "      <td>/content/drive/MyDrive/Website</td>\n",
              "      <td>825,246</td>\n",
              "    </tr>\n",
              "    <tr>\n",
              "      <th>6</th>\n",
              "      <td>Bolivia (Plurinational State of)</td>\n",
              "      <td>/content/drive/MyDrive/Website</td>\n",
              "      <td>825,246</td>\n",
              "    </tr>\n",
              "    <tr>\n",
              "      <th>7</th>\n",
              "      <td>Burkina Faso</td>\n",
              "      <td>/content/drive/MyDrive/Website</td>\n",
              "      <td>825,246</td>\n",
              "    </tr>\n",
              "    <tr>\n",
              "      <th>8</th>\n",
              "      <td>Burundi</td>\n",
              "      <td>/content/drive/MyDrive/Website</td>\n",
              "      <td>11.7</td>\n",
              "    </tr>\n",
              "    <tr>\n",
              "      <th>9</th>\n",
              "      <td>Cambodia</td>\n",
              "      <td>/content/drive/MyDrive/Website</td>\n",
              "      <td>16</td>\n",
              "    </tr>\n",
              "    <tr>\n",
              "      <th>10</th>\n",
              "      <td>Cameroon</td>\n",
              "      <td>/content/drive/MyDrive/Website</td>\n",
              "      <td>23.3</td>\n",
              "    </tr>\n",
              "    <tr>\n",
              "      <th>11</th>\n",
              "      <td>Central African Republic</td>\n",
              "      <td>/content/drive/MyDrive/Website</td>\n",
              "      <td>23.3</td>\n",
              "    </tr>\n",
              "    <tr>\n",
              "      <th>12</th>\n",
              "      <td>Chad</td>\n",
              "      <td>/content/drive/MyDrive/Website</td>\n",
              "      <td>43%    5</td>\n",
              "    </tr>\n",
              "    <tr>\n",
              "      <th>13</th>\n",
              "      <td>China</td>\n",
              "      <td>/content/drive/MyDrive/Website</td>\n",
              "      <td>1.37</td>\n",
              "    </tr>\n",
              "    <tr>\n",
              "      <th>14</th>\n",
              "      <td>Colombia</td>\n",
              "      <td>/content/drive/MyDrive/Website</td>\n",
              "      <td>48.2</td>\n",
              "    </tr>\n",
              "  </tbody>\n",
              "</table>\n",
              "</div>"
            ],
            "text/plain": [
              "                             Country  ...                    Population\n",
              "0                            Algeria  ...                      5       \n",
              "1                             Angola  ...  36,000                  2017\n",
              "2                            Armenia  ...                           3  \n",
              "3                         Bangladesh  ...                         160  \n",
              "4                              Benin  ...                        11.2  \n",
              "5                             Bhutan  ...                     825,246  \n",
              "6   Bolivia (Plurinational State of)  ...                     825,246  \n",
              "7                       Burkina Faso  ...                     825,246  \n",
              "8                            Burundi  ...                        11.7  \n",
              "9                           Cambodia  ...                          16  \n",
              "10                          Cameroon  ...                        23.3  \n",
              "11          Central African Republic  ...                        23.3  \n",
              "12                              Chad  ...                    43%    5  \n",
              "13                             China  ...                        1.37  \n",
              "14                          Colombia  ...                       48.2   \n",
              "\n",
              "[15 rows x 3 columns]"
            ]
          },
          "metadata": {
            "tags": []
          },
          "execution_count": 148
        }
      ]
    },
    {
      "cell_type": "code",
      "metadata": {
        "id": "Y4-nIwkmHM11",
        "colab": {
          "base_uri": "https://localhost:8080/",
          "height": 419
        },
        "outputId": "7f3c231f-0e06-484a-bc78-f272e8fc3da0"
      },
      "source": [
        "df_des=df_col.sort_values(\"Population\", ascending=False)\n",
        "\n",
        "df_des\n"
      ],
      "execution_count": 149,
      "outputs": [
        {
          "output_type": "execute_result",
          "data": {
            "text/html": [
              "<div>\n",
              "<style scoped>\n",
              "    .dataframe tbody tr th:only-of-type {\n",
              "        vertical-align: middle;\n",
              "    }\n",
              "\n",
              "    .dataframe tbody tr th {\n",
              "        vertical-align: top;\n",
              "    }\n",
              "\n",
              "    .dataframe thead th {\n",
              "        text-align: right;\n",
              "    }\n",
              "</style>\n",
              "<table border=\"1\" class=\"dataframe\">\n",
              "  <thead>\n",
              "    <tr style=\"text-align: right;\">\n",
              "      <th></th>\n",
              "      <th>Country</th>\n",
              "      <th>Directory</th>\n",
              "      <th>Population</th>\n",
              "    </tr>\n",
              "  </thead>\n",
              "  <tbody>\n",
              "    <tr>\n",
              "      <th>23</th>\n",
              "      <td>Egypt</td>\n",
              "      <td>/content/drive/MyDrive/Website</td>\n",
              "      <td>99.8</td>\n",
              "    </tr>\n",
              "    <tr>\n",
              "      <th>24</th>\n",
              "      <td>El Salvador</td>\n",
              "      <td>/content/drive/MyDrive/Website</td>\n",
              "      <td>99.8</td>\n",
              "    </tr>\n",
              "    <tr>\n",
              "      <th>20</th>\n",
              "      <td>Djibouti</td>\n",
              "      <td>/content/drive/MyDrive/Website</td>\n",
              "      <td>900,000</td>\n",
              "    </tr>\n",
              "    <tr>\n",
              "      <th>21</th>\n",
              "      <td>Dominican Republic</td>\n",
              "      <td>/content/drive/MyDrive/Website</td>\n",
              "      <td>900,000</td>\n",
              "    </tr>\n",
              "    <tr>\n",
              "      <th>33</th>\n",
              "      <td>Honduras</td>\n",
              "      <td>/content/drive/MyDrive/Website</td>\n",
              "      <td>9.1</td>\n",
              "    </tr>\n",
              "    <tr>\n",
              "      <th>...</th>\n",
              "      <td>...</td>\n",
              "      <td>...</td>\n",
              "      <td>...</td>\n",
              "    </tr>\n",
              "    <tr>\n",
              "      <th>13</th>\n",
              "      <td>China</td>\n",
              "      <td>/content/drive/MyDrive/Website</td>\n",
              "      <td>1.37</td>\n",
              "    </tr>\n",
              "    <tr>\n",
              "      <th>34</th>\n",
              "      <td>India</td>\n",
              "      <td>/content/drive/MyDrive/Website</td>\n",
              "      <td>1.3</td>\n",
              "    </tr>\n",
              "    <tr>\n",
              "      <th>74</th>\n",
              "      <td>Timor-Leste</td>\n",
              "      <td>/content/drive/MyDrive/Website</td>\n",
              "      <td>1.2</td>\n",
              "    </tr>\n",
              "    <tr>\n",
              "      <th>25</th>\n",
              "      <td>Eswatini</td>\n",
              "      <td>/content/drive/MyDrive/Website</td>\n",
              "      <td>1.1</td>\n",
              "    </tr>\n",
              "    <tr>\n",
              "      <th>47</th>\n",
              "      <td>Malawi</td>\n",
              "      <td>/content/drive/MyDrive/Website</td>\n",
              "      <td>17.5</td>\n",
              "    </tr>\n",
              "  </tbody>\n",
              "</table>\n",
              "<p>82 rows × 3 columns</p>\n",
              "</div>"
            ],
            "text/plain": [
              "               Country                       Directory Population\n",
              "23               Egypt  /content/drive/MyDrive/Website     99.8  \n",
              "24         El Salvador  /content/drive/MyDrive/Website     99.8  \n",
              "20            Djibouti  /content/drive/MyDrive/Website   900,000 \n",
              "21  Dominican Republic  /content/drive/MyDrive/Website   900,000 \n",
              "33            Honduras  /content/drive/MyDrive/Website     9.1   \n",
              "..                 ...                             ...        ...\n",
              "13               China  /content/drive/MyDrive/Website     1.37  \n",
              "34               India  /content/drive/MyDrive/Website      1.3  \n",
              "74         Timor-Leste  /content/drive/MyDrive/Website      1.2  \n",
              "25            Eswatini  /content/drive/MyDrive/Website     1.1   \n",
              "47              Malawi  /content/drive/MyDrive/Website   17.5    \n",
              "\n",
              "[82 rows x 3 columns]"
            ]
          },
          "metadata": {
            "tags": []
          },
          "execution_count": 149
        }
      ]
    },
    {
      "cell_type": "code",
      "metadata": {
        "id": "tEvWqkMmHy6B",
        "colab": {
          "base_uri": "https://localhost:8080/",
          "height": 419
        },
        "outputId": "56f86cd8-606a-4ccb-8471-9e6a8384a386"
      },
      "source": [
        "df_acen=df_col.sort_values(\"Population\")\n",
        "\n",
        "df_acen\n"
      ],
      "execution_count": 150,
      "outputs": [
        {
          "output_type": "execute_result",
          "data": {
            "text/html": [
              "<div>\n",
              "<style scoped>\n",
              "    .dataframe tbody tr th:only-of-type {\n",
              "        vertical-align: middle;\n",
              "    }\n",
              "\n",
              "    .dataframe tbody tr th {\n",
              "        vertical-align: top;\n",
              "    }\n",
              "\n",
              "    .dataframe thead th {\n",
              "        text-align: right;\n",
              "    }\n",
              "</style>\n",
              "<table border=\"1\" class=\"dataframe\">\n",
              "  <thead>\n",
              "    <tr style=\"text-align: right;\">\n",
              "      <th></th>\n",
              "      <th>Country</th>\n",
              "      <th>Directory</th>\n",
              "      <th>Population</th>\n",
              "    </tr>\n",
              "  </thead>\n",
              "  <tbody>\n",
              "    <tr>\n",
              "      <th>47</th>\n",
              "      <td>Malawi</td>\n",
              "      <td>/content/drive/MyDrive/Website</td>\n",
              "      <td>17.5</td>\n",
              "    </tr>\n",
              "    <tr>\n",
              "      <th>25</th>\n",
              "      <td>Eswatini</td>\n",
              "      <td>/content/drive/MyDrive/Website</td>\n",
              "      <td>1.1</td>\n",
              "    </tr>\n",
              "    <tr>\n",
              "      <th>74</th>\n",
              "      <td>Timor-Leste</td>\n",
              "      <td>/content/drive/MyDrive/Website</td>\n",
              "      <td>1.2</td>\n",
              "    </tr>\n",
              "    <tr>\n",
              "      <th>34</th>\n",
              "      <td>India</td>\n",
              "      <td>/content/drive/MyDrive/Website</td>\n",
              "      <td>1.3</td>\n",
              "    </tr>\n",
              "    <tr>\n",
              "      <th>13</th>\n",
              "      <td>China</td>\n",
              "      <td>/content/drive/MyDrive/Website</td>\n",
              "      <td>1.37</td>\n",
              "    </tr>\n",
              "    <tr>\n",
              "      <th>...</th>\n",
              "      <td>...</td>\n",
              "      <td>...</td>\n",
              "      <td>...</td>\n",
              "    </tr>\n",
              "    <tr>\n",
              "      <th>33</th>\n",
              "      <td>Honduras</td>\n",
              "      <td>/content/drive/MyDrive/Website</td>\n",
              "      <td>9.1</td>\n",
              "    </tr>\n",
              "    <tr>\n",
              "      <th>21</th>\n",
              "      <td>Dominican Republic</td>\n",
              "      <td>/content/drive/MyDrive/Website</td>\n",
              "      <td>900,000</td>\n",
              "    </tr>\n",
              "    <tr>\n",
              "      <th>20</th>\n",
              "      <td>Djibouti</td>\n",
              "      <td>/content/drive/MyDrive/Website</td>\n",
              "      <td>900,000</td>\n",
              "    </tr>\n",
              "    <tr>\n",
              "      <th>24</th>\n",
              "      <td>El Salvador</td>\n",
              "      <td>/content/drive/MyDrive/Website</td>\n",
              "      <td>99.8</td>\n",
              "    </tr>\n",
              "    <tr>\n",
              "      <th>23</th>\n",
              "      <td>Egypt</td>\n",
              "      <td>/content/drive/MyDrive/Website</td>\n",
              "      <td>99.8</td>\n",
              "    </tr>\n",
              "  </tbody>\n",
              "</table>\n",
              "<p>82 rows × 3 columns</p>\n",
              "</div>"
            ],
            "text/plain": [
              "               Country                       Directory Population\n",
              "47              Malawi  /content/drive/MyDrive/Website   17.5    \n",
              "25            Eswatini  /content/drive/MyDrive/Website     1.1   \n",
              "74         Timor-Leste  /content/drive/MyDrive/Website      1.2  \n",
              "34               India  /content/drive/MyDrive/Website      1.3  \n",
              "13               China  /content/drive/MyDrive/Website     1.37  \n",
              "..                 ...                             ...        ...\n",
              "33            Honduras  /content/drive/MyDrive/Website     9.1   \n",
              "21  Dominican Republic  /content/drive/MyDrive/Website   900,000 \n",
              "20            Djibouti  /content/drive/MyDrive/Website   900,000 \n",
              "24         El Salvador  /content/drive/MyDrive/Website     99.8  \n",
              "23               Egypt  /content/drive/MyDrive/Website     99.8  \n",
              "\n",
              "[82 rows x 3 columns]"
            ]
          },
          "metadata": {
            "tags": []
          },
          "execution_count": 150
        }
      ]
    },
    {
      "cell_type": "code",
      "metadata": {
        "id": "Edyik-JoFGpv"
      },
      "source": [
        "import matplotlib.pyplot as plt\n",
        "import pandas as pd\n",
        "import pylab as pl\n",
        "import numpy as np\n",
        "import seaborn as sns\n",
        "%matplotlib inline"
      ],
      "execution_count": 151,
      "outputs": []
    },
    {
      "cell_type": "code",
      "metadata": {
        "id": "5R0_RKMurcae",
        "colab": {
          "base_uri": "https://localhost:8080/",
          "height": 578
        },
        "outputId": "77dd69d3-e471-4d53-e09c-86cdeb9751d5"
      },
      "source": [
        "plt.figure(figsize=(50,15)) \n",
        "sns.histplot(df_col['Population'],kde=True)"
      ],
      "execution_count": 152,
      "outputs": [
        {
          "output_type": "execute_result",
          "data": {
            "text/plain": [
              "<matplotlib.axes._subplots.AxesSubplot at 0x7f25509356d0>"
            ]
          },
          "metadata": {
            "tags": []
          },
          "execution_count": 152
        },
        {
          "output_type": "display_data",
          "data": {
            "image/png": "[encoded data removed]",
            "text/plain": [
              "<Figure size 3600x1080 with 1 Axes>"
            ]
          },
          "metadata": {
            "tags": [],
            "needs_background": "light"
          }
        }
      ]
    },
    {
      "cell_type": "code",
      "metadata": {
        "id": "ww2Ph97-FIlu",
        "colab": {
          "base_uri": "https://localhost:8080/",
          "height": 619
        },
        "outputId": "6c1b92bb-9bd8-4ea0-c9cc-a7baf1688033"
      },
      "source": [
        "\n",
        "sns.set_style('darkgrid')\n",
        "plt.figure(figsize=(50,15))   #  Incresing figure size...\n",
        "plt.title(\"TOP 5 LOWEST POPULATION (MILLION)\")\n",
        "\n",
        "plt.ylabel(\"Population\")\n",
        "\n",
        "plt.xlabel('Countries')\n",
        "\n",
        "plt.xticks(rotation= 90)\n",
        "sns.countplot(x ='Country', data =df_acen[:5])"
      ],
      "execution_count": 153,
      "outputs": [
        {
          "output_type": "execute_result",
          "data": {
            "text/plain": [
              "<matplotlib.axes._subplots.AxesSubplot at 0x7f255586c7d0>"
            ]
          },
          "metadata": {
            "tags": []
          },
          "execution_count": 153
        },
        {
          "output_type": "display_data",
          "data": {
            "image/png": "[encoded data removed]",
            "text/plain": [
              "<Figure size 3600x1080 with 1 Axes>"
            ]
          },
          "metadata": {
            "tags": []
          }
        }
      ]
    },
    {
      "cell_type": "code",
      "metadata": {
        "id": "vRxnkNQLIfPd",
        "colab": {
          "base_uri": "https://localhost:8080/",
          "height": 645
        },
        "outputId": "02ecc90b-c50b-424d-90e1-d656ad1cc4b0"
      },
      "source": [
        "\n",
        "sns.set_style('darkgrid')\n",
        "plt.figure(figsize=(50,15))   #  Incresing figure size...\n",
        "plt.title(\"TOP 5 Highest POPULATION (MILLION)\")\n",
        "\n",
        "plt.ylabel(\"Population\")\n",
        "\n",
        "plt.xlabel('Countries')\n",
        "\n",
        "plt.xticks(rotation= 90)\n",
        "sns.countplot(x ='Country', data =df_des[:5])"
      ],
      "execution_count": 154,
      "outputs": [
        {
          "output_type": "execute_result",
          "data": {
            "text/plain": [
              "<matplotlib.axes._subplots.AxesSubplot at 0x7f2550b180d0>"
            ]
          },
          "metadata": {
            "tags": []
          },
          "execution_count": 154
        },
        {
          "output_type": "display_data",
          "data": {
            "image/png": "[encoded data removed]",
            "text/plain": [
              "<Figure size 3600x1080 with 1 Axes>"
            ]
          },
          "metadata": {
            "tags": []
          }
        }
      ]
    }
  ]
}